{
 "cells": [
  {
   "cell_type": "markdown",
   "metadata": {},
   "source": [
    "# COUNT,集計関数,WINDOW関数\n",
    "### 練習項目\n",
    "- pass\n",
    "\n",
    "### 参考文献\n",
    "***\n",
    "- [SQL第2版ゼロからはじめるデータベース操作](https://www.shoeisha.co.jp/book/detail/9784798144450)\n",
    "- [ビッグデータ分析・活用のためのSQLレシピ](https://book.mynavi.jp/supportsite/detail/9784839961268.html)"
   ]
  },
  {
   "cell_type": "code",
   "execution_count": 1,
   "metadata": {},
   "outputs": [],
   "source": [
    "%reload_ext google.cloud.bigquery"
   ]
  },
  {
   "cell_type": "code",
   "execution_count": 2,
   "metadata": {},
   "outputs": [],
   "source": [
    "import pandas as pd"
   ]
  },
  {
   "cell_type": "markdown",
   "metadata": {},
   "source": [
    "## テーブル定義"
   ]
  },
  {
   "cell_type": "code",
   "execution_count": 32,
   "metadata": {},
   "outputs": [],
   "source": [
    "p_id = 'tactile-acrobat-231812'\n",
    "name = 'example.review'\n",
    "data = [\n",
    "    ('U001', 'A001', 94),\n",
    "    ('U001', 'A002', 81),\n",
    "    ('U001', 'A003', 78),\n",
    "    ('U002', 'A001', 64),\n",
    "    ('U002', 'A002', 90),\n",
    "    ('U002', 'A003', 82),\n",
    "    ('U003', 'A001', 78),\n",
    "    ('U003', 'A002', 58),\n",
    "    ('U003', 'A003', 55),\n",
    "]\n",
    "cols = ['user_id', 'product_id', 'score']"
   ]
  },
  {
   "cell_type": "markdown",
   "metadata": {},
   "source": [
    "### CREATE"
   ]
  },
  {
   "cell_type": "code",
   "execution_count": 33,
   "metadata": {},
   "outputs": [
    {
     "name": "stderr",
     "output_type": "stream",
     "text": [
      "1it [00:04,  4.87s/it]\n"
     ]
    }
   ],
   "source": [
    "df_create = pd.DataFrame(data, columns=cols)\n",
    "df_create.to_gbq(name, p_id)"
   ]
  },
  {
   "cell_type": "markdown",
   "metadata": {},
   "source": [
    "### UPDATE"
   ]
  },
  {
   "cell_type": "code",
   "execution_count": 29,
   "metadata": {},
   "outputs": [
    {
     "data": {
      "text/html": [
       "<div>\n",
       "<style scoped>\n",
       "    .dataframe tbody tr th:only-of-type {\n",
       "        vertical-align: middle;\n",
       "    }\n",
       "\n",
       "    .dataframe tbody tr th {\n",
       "        vertical-align: top;\n",
       "    }\n",
       "\n",
       "    .dataframe thead th {\n",
       "        text-align: right;\n",
       "    }\n",
       "</style>\n",
       "<table border=\"1\" class=\"dataframe\">\n",
       "  <thead>\n",
       "    <tr style=\"text-align: right;\">\n",
       "      <th></th>\n",
       "    </tr>\n",
       "  </thead>\n",
       "  <tbody>\n",
       "  </tbody>\n",
       "</table>\n",
       "</div>"
      ],
      "text/plain": [
       "Empty DataFrame\n",
       "Columns: []\n",
       "Index: []"
      ]
     },
     "execution_count": 29,
     "metadata": {},
     "output_type": "execute_result"
    }
   ],
   "source": [
    "%%bigquery\n",
    "UPDATE `tactile-acrobat-231812.example.review` \n",
    "    set amount=100\n",
    "WHERE\n",
    "    dt = 'A'"
   ]
  },
  {
   "cell_type": "markdown",
   "metadata": {},
   "source": [
    "### INSERT"
   ]
  },
  {
   "cell_type": "code",
   "execution_count": 42,
   "metadata": {},
   "outputs": [
    {
     "data": {
      "text/html": [
       "<div>\n",
       "<style scoped>\n",
       "    .dataframe tbody tr th:only-of-type {\n",
       "        vertical-align: middle;\n",
       "    }\n",
       "\n",
       "    .dataframe tbody tr th {\n",
       "        vertical-align: top;\n",
       "    }\n",
       "\n",
       "    .dataframe thead th {\n",
       "        text-align: right;\n",
       "    }\n",
       "</style>\n",
       "<table border=\"1\" class=\"dataframe\">\n",
       "  <thead>\n",
       "    <tr style=\"text-align: right;\">\n",
       "      <th></th>\n",
       "    </tr>\n",
       "  </thead>\n",
       "  <tbody>\n",
       "  </tbody>\n",
       "</table>\n",
       "</div>"
      ],
      "text/plain": [
       "Empty DataFrame\n",
       "Columns: []\n",
       "Index: []"
      ]
     },
     "execution_count": 42,
     "metadata": {},
     "output_type": "execute_result"
    }
   ],
   "source": [
    "%%bigquery\n",
    "INSERT INTO `tactile-acrobat-231812.example.review` \n",
    "    (dt, amount, agg_amount, year_avg_amount)\n",
    "VALUES\n",
    "    ('A',0,1,2),\n",
    "    ('B',1,2,3)"
   ]
  },
  {
   "cell_type": "markdown",
   "metadata": {},
   "source": [
    "### DELETE"
   ]
  },
  {
   "cell_type": "code",
   "execution_count": 39,
   "metadata": {},
   "outputs": [
    {
     "data": {
      "text/html": [
       "<div>\n",
       "<style scoped>\n",
       "    .dataframe tbody tr th:only-of-type {\n",
       "        vertical-align: middle;\n",
       "    }\n",
       "\n",
       "    .dataframe tbody tr th {\n",
       "        vertical-align: top;\n",
       "    }\n",
       "\n",
       "    .dataframe thead th {\n",
       "        text-align: right;\n",
       "    }\n",
       "</style>\n",
       "<table border=\"1\" class=\"dataframe\">\n",
       "  <thead>\n",
       "    <tr style=\"text-align: right;\">\n",
       "      <th></th>\n",
       "    </tr>\n",
       "  </thead>\n",
       "  <tbody>\n",
       "  </tbody>\n",
       "</table>\n",
       "</div>"
      ],
      "text/plain": [
       "Empty DataFrame\n",
       "Columns: []\n",
       "Index: []"
      ]
     },
     "execution_count": 39,
     "metadata": {},
     "output_type": "execute_result"
    }
   ],
   "source": [
    "%%bigquery\n",
    "DELETE FROM `tactile-acrobat-231812.example.review`\n",
    "WHERE\n",
    "    dt = '2015-01'"
   ]
  },
  {
   "cell_type": "markdown",
   "metadata": {},
   "source": [
    "### DROP TABLE"
   ]
  },
  {
   "cell_type": "code",
   "execution_count": 29,
   "metadata": {},
   "outputs": [
    {
     "data": {
      "text/html": [
       "<div>\n",
       "<style scoped>\n",
       "    .dataframe tbody tr th:only-of-type {\n",
       "        vertical-align: middle;\n",
       "    }\n",
       "\n",
       "    .dataframe tbody tr th {\n",
       "        vertical-align: top;\n",
       "    }\n",
       "\n",
       "    .dataframe thead th {\n",
       "        text-align: right;\n",
       "    }\n",
       "</style>\n",
       "<table border=\"1\" class=\"dataframe\">\n",
       "  <thead>\n",
       "    <tr style=\"text-align: right;\">\n",
       "      <th></th>\n",
       "    </tr>\n",
       "  </thead>\n",
       "  <tbody>\n",
       "  </tbody>\n",
       "</table>\n",
       "</div>"
      ],
      "text/plain": [
       "Empty DataFrame\n",
       "Columns: []\n",
       "Index: []"
      ]
     },
     "execution_count": 29,
     "metadata": {},
     "output_type": "execute_result"
    }
   ],
   "source": [
    "%%bigquery\n",
    "DROP TABLE `tactile-acrobat-231812.example.review`"
   ]
  },
  {
   "cell_type": "markdown",
   "metadata": {},
   "source": [
    "### SELECT（*）"
   ]
  },
  {
   "cell_type": "code",
   "execution_count": 7,
   "metadata": {},
   "outputs": [],
   "source": [
    "%%bigquery df_ast\n",
    "SELECT\n",
    "  *\n",
    "FROM \n",
    "  `tactile-acrobat-231812.example.review`"
   ]
  },
  {
   "cell_type": "code",
   "execution_count": 8,
   "metadata": {},
   "outputs": [
    {
     "data": {
      "text/html": [
       "<div>\n",
       "<style scoped>\n",
       "    .dataframe tbody tr th:only-of-type {\n",
       "        vertical-align: middle;\n",
       "    }\n",
       "\n",
       "    .dataframe tbody tr th {\n",
       "        vertical-align: top;\n",
       "    }\n",
       "\n",
       "    .dataframe thead th {\n",
       "        text-align: right;\n",
       "    }\n",
       "</style>\n",
       "<table border=\"1\" class=\"dataframe\">\n",
       "  <thead>\n",
       "    <tr style=\"text-align: right;\">\n",
       "      <th></th>\n",
       "      <th>user_id</th>\n",
       "      <th>product_id</th>\n",
       "      <th>score</th>\n",
       "    </tr>\n",
       "  </thead>\n",
       "  <tbody>\n",
       "    <tr>\n",
       "      <th>0</th>\n",
       "      <td>U001</td>\n",
       "      <td>A001</td>\n",
       "      <td>4.0</td>\n",
       "    </tr>\n",
       "    <tr>\n",
       "      <th>1</th>\n",
       "      <td>U001</td>\n",
       "      <td>A002</td>\n",
       "      <td>5.0</td>\n",
       "    </tr>\n",
       "    <tr>\n",
       "      <th>2</th>\n",
       "      <td>U001</td>\n",
       "      <td>A003</td>\n",
       "      <td>5.0</td>\n",
       "    </tr>\n",
       "    <tr>\n",
       "      <th>3</th>\n",
       "      <td>U002</td>\n",
       "      <td>A001</td>\n",
       "      <td>3.0</td>\n",
       "    </tr>\n",
       "    <tr>\n",
       "      <th>4</th>\n",
       "      <td>U002</td>\n",
       "      <td>A002</td>\n",
       "      <td>3.0</td>\n",
       "    </tr>\n",
       "    <tr>\n",
       "      <th>5</th>\n",
       "      <td>U002</td>\n",
       "      <td>A003</td>\n",
       "      <td>4.0</td>\n",
       "    </tr>\n",
       "    <tr>\n",
       "      <th>6</th>\n",
       "      <td>U003</td>\n",
       "      <td>A001</td>\n",
       "      <td>5.0</td>\n",
       "    </tr>\n",
       "    <tr>\n",
       "      <th>7</th>\n",
       "      <td>U003</td>\n",
       "      <td>A002</td>\n",
       "      <td>4.0</td>\n",
       "    </tr>\n",
       "    <tr>\n",
       "      <th>8</th>\n",
       "      <td>U003</td>\n",
       "      <td>A003</td>\n",
       "      <td>4.0</td>\n",
       "    </tr>\n",
       "  </tbody>\n",
       "</table>\n",
       "</div>"
      ],
      "text/plain": [
       "  user_id product_id  score\n",
       "0    U001       A001    4.0\n",
       "1    U001       A002    5.0\n",
       "2    U001       A003    5.0\n",
       "3    U002       A001    3.0\n",
       "4    U002       A002    3.0\n",
       "5    U002       A003    4.0\n",
       "6    U003       A001    5.0\n",
       "7    U003       A002    4.0\n",
       "8    U003       A003    4.0"
      ]
     },
     "metadata": {},
     "output_type": "display_data"
    }
   ],
   "source": [
    "display(df_ast)"
   ]
  },
  {
   "cell_type": "markdown",
   "metadata": {},
   "source": [
    "### 全体レコード集計"
   ]
  },
  {
   "cell_type": "code",
   "execution_count": 34,
   "metadata": {},
   "outputs": [],
   "source": [
    "%%bigquery df_all_agg\n",
    "SELECT\n",
    "    COUNT(*) AS total_count\n",
    "    ,COUNT(DISTINCT user_id) AS user_count\n",
    "    ,COUNT(DISTINCT product_id) AS product_count\n",
    "    ,SUM(score) AS score_sum\n",
    "    ,AVG(score) AS score_avg\n",
    "    ,VARIANCE(score) AS score_var\n",
    "    ,STDDEV(score) AS score_std\n",
    "    ,MIN(score) AS score_min\n",
    "    ,MAX(score) AS score_max\n",
    "FROM \n",
    "    `tactile-acrobat-231812.example.review`"
   ]
  },
  {
   "cell_type": "code",
   "execution_count": 35,
   "metadata": {},
   "outputs": [
    {
     "data": {
      "text/html": [
       "<div>\n",
       "<style scoped>\n",
       "    .dataframe tbody tr th:only-of-type {\n",
       "        vertical-align: middle;\n",
       "    }\n",
       "\n",
       "    .dataframe tbody tr th {\n",
       "        vertical-align: top;\n",
       "    }\n",
       "\n",
       "    .dataframe thead th {\n",
       "        text-align: right;\n",
       "    }\n",
       "</style>\n",
       "<table border=\"1\" class=\"dataframe\">\n",
       "  <thead>\n",
       "    <tr style=\"text-align: right;\">\n",
       "      <th></th>\n",
       "      <th>total_count</th>\n",
       "      <th>user_count</th>\n",
       "      <th>product_count</th>\n",
       "      <th>score_sum</th>\n",
       "      <th>score_avg</th>\n",
       "      <th>score_var</th>\n",
       "      <th>score_std</th>\n",
       "      <th>score_min</th>\n",
       "      <th>score_max</th>\n",
       "    </tr>\n",
       "  </thead>\n",
       "  <tbody>\n",
       "    <tr>\n",
       "      <th>0</th>\n",
       "      <td>9</td>\n",
       "      <td>3</td>\n",
       "      <td>3</td>\n",
       "      <td>680</td>\n",
       "      <td>75.555556</td>\n",
       "      <td>187.027778</td>\n",
       "      <td>13.67581</td>\n",
       "      <td>55</td>\n",
       "      <td>94</td>\n",
       "    </tr>\n",
       "  </tbody>\n",
       "</table>\n",
       "</div>"
      ],
      "text/plain": [
       "   total_count  user_count  product_count  score_sum  score_avg   score_var  \\\n",
       "0            9           3              3        680  75.555556  187.027778   \n",
       "\n",
       "   score_std  score_min  score_max  \n",
       "0   13.67581         55         94  "
      ]
     },
     "metadata": {},
     "output_type": "display_data"
    }
   ],
   "source": [
    "display(df_all_agg)"
   ]
  },
  {
   "cell_type": "markdown",
   "metadata": {},
   "source": [
    "### user_id別レコード集計"
   ]
  },
  {
   "cell_type": "code",
   "execution_count": 36,
   "metadata": {},
   "outputs": [],
   "source": [
    "%%bigquery df_user_id_agg\n",
    "SELECT\n",
    "    user_id\n",
    "    ,COUNT(*) AS total_count　-- GROUP BYでuser_idを指定しているためuser_idごとの全体カウントとなる\n",
    "    ,COUNT(DISTINCT product_id) AS product_count\n",
    "    ,SUM(score) AS score_sum\n",
    "    ,AVG(score) AS score_avg\n",
    "    ,VARIANCE(score) AS score_var\n",
    "    ,STDDEV(score) AS score_std\n",
    "    ,MIN(score) AS score_min\n",
    "    ,MAX(score) AS score_max\n",
    "FROM \n",
    "    `tactile-acrobat-231812.example.review`\n",
    "GROUP BY\n",
    "    user_id -- user_idごとにテーブルを分けることをイメージ"
   ]
  },
  {
   "cell_type": "code",
   "execution_count": 37,
   "metadata": {},
   "outputs": [
    {
     "data": {
      "text/html": [
       "<div>\n",
       "<style scoped>\n",
       "    .dataframe tbody tr th:only-of-type {\n",
       "        vertical-align: middle;\n",
       "    }\n",
       "\n",
       "    .dataframe tbody tr th {\n",
       "        vertical-align: top;\n",
       "    }\n",
       "\n",
       "    .dataframe thead th {\n",
       "        text-align: right;\n",
       "    }\n",
       "</style>\n",
       "<table border=\"1\" class=\"dataframe\">\n",
       "  <thead>\n",
       "    <tr style=\"text-align: right;\">\n",
       "      <th></th>\n",
       "      <th>user_id</th>\n",
       "      <th>total_count</th>\n",
       "      <th>product_count</th>\n",
       "      <th>score_sum</th>\n",
       "      <th>score_avg</th>\n",
       "      <th>score_var</th>\n",
       "      <th>score_std</th>\n",
       "      <th>score_min</th>\n",
       "      <th>score_max</th>\n",
       "    </tr>\n",
       "  </thead>\n",
       "  <tbody>\n",
       "    <tr>\n",
       "      <th>0</th>\n",
       "      <td>U003</td>\n",
       "      <td>3</td>\n",
       "      <td>3</td>\n",
       "      <td>191</td>\n",
       "      <td>63.666667</td>\n",
       "      <td>156.333333</td>\n",
       "      <td>12.503333</td>\n",
       "      <td>55</td>\n",
       "      <td>78</td>\n",
       "    </tr>\n",
       "    <tr>\n",
       "      <th>1</th>\n",
       "      <td>U002</td>\n",
       "      <td>3</td>\n",
       "      <td>3</td>\n",
       "      <td>236</td>\n",
       "      <td>78.666667</td>\n",
       "      <td>177.333333</td>\n",
       "      <td>13.316656</td>\n",
       "      <td>64</td>\n",
       "      <td>90</td>\n",
       "    </tr>\n",
       "    <tr>\n",
       "      <th>2</th>\n",
       "      <td>U001</td>\n",
       "      <td>3</td>\n",
       "      <td>3</td>\n",
       "      <td>253</td>\n",
       "      <td>84.333333</td>\n",
       "      <td>72.333333</td>\n",
       "      <td>8.504901</td>\n",
       "      <td>78</td>\n",
       "      <td>94</td>\n",
       "    </tr>\n",
       "  </tbody>\n",
       "</table>\n",
       "</div>"
      ],
      "text/plain": [
       "  user_id  total_count  product_count  score_sum  score_avg   score_var  \\\n",
       "0    U003            3              3        191  63.666667  156.333333   \n",
       "1    U002            3              3        236  78.666667  177.333333   \n",
       "2    U001            3              3        253  84.333333   72.333333   \n",
       "\n",
       "   score_std  score_min  score_max  \n",
       "0  12.503333         55         78  \n",
       "1  13.316656         64         90  \n",
       "2   8.504901         78         94  "
      ]
     },
     "metadata": {},
     "output_type": "display_data"
    }
   ],
   "source": [
    "display(df_user_id_agg)"
   ]
  },
  {
   "cell_type": "markdown",
   "metadata": {},
   "source": [
    "### user_id別レコード集計（元テーブル残すver）"
   ]
  },
  {
   "cell_type": "code",
   "execution_count": 38,
   "metadata": {},
   "outputs": [],
   "source": [
    "%%bigquery df_user_id_agg_over\n",
    "SELECT\n",
    "    user_id\n",
    "    ,product_id\n",
    "    ,score\n",
    "    ,AVG(score) OVER() AS score_avg\n",
    "    ,AVG(score) OVER(PARTITION BY user_id) AS score_avg_per_user\n",
    "    ,score - AVG(score) OVER(PARTITION BY user_id) AS score_diff_all_per_user\n",
    "FROM \n",
    "    `tactile-acrobat-231812.example.review`"
   ]
  },
  {
   "cell_type": "code",
   "execution_count": 39,
   "metadata": {},
   "outputs": [
    {
     "data": {
      "text/html": [
       "<div>\n",
       "<style scoped>\n",
       "    .dataframe tbody tr th:only-of-type {\n",
       "        vertical-align: middle;\n",
       "    }\n",
       "\n",
       "    .dataframe tbody tr th {\n",
       "        vertical-align: top;\n",
       "    }\n",
       "\n",
       "    .dataframe thead th {\n",
       "        text-align: right;\n",
       "    }\n",
       "</style>\n",
       "<table border=\"1\" class=\"dataframe\">\n",
       "  <thead>\n",
       "    <tr style=\"text-align: right;\">\n",
       "      <th></th>\n",
       "      <th>user_id</th>\n",
       "      <th>product_id</th>\n",
       "      <th>score</th>\n",
       "      <th>score_avg</th>\n",
       "      <th>score_avg_per_user</th>\n",
       "      <th>score_diff_all_per_user</th>\n",
       "    </tr>\n",
       "  </thead>\n",
       "  <tbody>\n",
       "    <tr>\n",
       "      <th>0</th>\n",
       "      <td>U001</td>\n",
       "      <td>A001</td>\n",
       "      <td>94</td>\n",
       "      <td>75.555556</td>\n",
       "      <td>84.333333</td>\n",
       "      <td>9.666667</td>\n",
       "    </tr>\n",
       "    <tr>\n",
       "      <th>1</th>\n",
       "      <td>U001</td>\n",
       "      <td>A002</td>\n",
       "      <td>81</td>\n",
       "      <td>75.555556</td>\n",
       "      <td>84.333333</td>\n",
       "      <td>-3.333333</td>\n",
       "    </tr>\n",
       "    <tr>\n",
       "      <th>2</th>\n",
       "      <td>U001</td>\n",
       "      <td>A003</td>\n",
       "      <td>78</td>\n",
       "      <td>75.555556</td>\n",
       "      <td>84.333333</td>\n",
       "      <td>-6.333333</td>\n",
       "    </tr>\n",
       "    <tr>\n",
       "      <th>3</th>\n",
       "      <td>U002</td>\n",
       "      <td>A001</td>\n",
       "      <td>64</td>\n",
       "      <td>75.555556</td>\n",
       "      <td>78.666667</td>\n",
       "      <td>-14.666667</td>\n",
       "    </tr>\n",
       "    <tr>\n",
       "      <th>4</th>\n",
       "      <td>U002</td>\n",
       "      <td>A002</td>\n",
       "      <td>90</td>\n",
       "      <td>75.555556</td>\n",
       "      <td>78.666667</td>\n",
       "      <td>11.333333</td>\n",
       "    </tr>\n",
       "    <tr>\n",
       "      <th>5</th>\n",
       "      <td>U002</td>\n",
       "      <td>A003</td>\n",
       "      <td>82</td>\n",
       "      <td>75.555556</td>\n",
       "      <td>78.666667</td>\n",
       "      <td>3.333333</td>\n",
       "    </tr>\n",
       "    <tr>\n",
       "      <th>6</th>\n",
       "      <td>U003</td>\n",
       "      <td>A001</td>\n",
       "      <td>78</td>\n",
       "      <td>75.555556</td>\n",
       "      <td>63.666667</td>\n",
       "      <td>14.333333</td>\n",
       "    </tr>\n",
       "    <tr>\n",
       "      <th>7</th>\n",
       "      <td>U003</td>\n",
       "      <td>A002</td>\n",
       "      <td>58</td>\n",
       "      <td>75.555556</td>\n",
       "      <td>63.666667</td>\n",
       "      <td>-5.666667</td>\n",
       "    </tr>\n",
       "    <tr>\n",
       "      <th>8</th>\n",
       "      <td>U003</td>\n",
       "      <td>A003</td>\n",
       "      <td>55</td>\n",
       "      <td>75.555556</td>\n",
       "      <td>63.666667</td>\n",
       "      <td>-8.666667</td>\n",
       "    </tr>\n",
       "  </tbody>\n",
       "</table>\n",
       "</div>"
      ],
      "text/plain": [
       "  user_id product_id  score  score_avg  score_avg_per_user  \\\n",
       "0    U001       A001     94  75.555556           84.333333   \n",
       "1    U001       A002     81  75.555556           84.333333   \n",
       "2    U001       A003     78  75.555556           84.333333   \n",
       "3    U002       A001     64  75.555556           78.666667   \n",
       "4    U002       A002     90  75.555556           78.666667   \n",
       "5    U002       A003     82  75.555556           78.666667   \n",
       "6    U003       A001     78  75.555556           63.666667   \n",
       "7    U003       A002     58  75.555556           63.666667   \n",
       "8    U003       A003     55  75.555556           63.666667   \n",
       "\n",
       "   score_diff_all_per_user  \n",
       "0                 9.666667  \n",
       "1                -3.333333  \n",
       "2                -6.333333  \n",
       "3               -14.666667  \n",
       "4                11.333333  \n",
       "5                 3.333333  \n",
       "6                14.333333  \n",
       "7                -5.666667  \n",
       "8                -8.666667  "
      ]
     },
     "metadata": {},
     "output_type": "display_data"
    }
   ],
   "source": [
    "display(df_user_id_agg_over)"
   ]
  },
  {
   "cell_type": "markdown",
   "metadata": {},
   "source": [
    "### 順序に関連する関数"
   ]
  },
  {
   "cell_type": "code",
   "execution_count": 45,
   "metadata": {},
   "outputs": [],
   "source": [
    "%%bigquery df_user_id_orderby\n",
    "SELECT\n",
    "    user_id\n",
    "    ,score\n",
    "    ,ROW_NUMBER() OVER(ORDER BY score DESC) AS score_row -- 一意のランキング\n",
    "    ,RANK() OVER(ORDER BY score DESC) AS score_rank -- タイ込のランキング\n",
    "    ,DENSE_RANK() OVER(ORDER BY score DESC) AS score_dense -- タイ込のランキング（順位飛ばさない）\n",
    "    ,LAG(user_id) OVER(ORDER BY score DESC) AS lag1\n",
    "    ,LAG(user_id, 2) OVER(ORDER BY score DESC) AS lag2\n",
    "    ,LEAD(user_id) OVER(ORDER BY score DESC) AS lead1\n",
    "    ,LEAD(user_id, 2) OVER(ORDER BY score DESC) AS lead2\n",
    "FROM \n",
    "    `tactile-acrobat-231812.example.review`\n",
    "-- 全体をscore_rowによって並べ替える\n",
    "ORDER BY score_row"
   ]
  },
  {
   "cell_type": "code",
   "execution_count": 46,
   "metadata": {},
   "outputs": [
    {
     "data": {
      "text/html": [
       "<div>\n",
       "<style scoped>\n",
       "    .dataframe tbody tr th:only-of-type {\n",
       "        vertical-align: middle;\n",
       "    }\n",
       "\n",
       "    .dataframe tbody tr th {\n",
       "        vertical-align: top;\n",
       "    }\n",
       "\n",
       "    .dataframe thead th {\n",
       "        text-align: right;\n",
       "    }\n",
       "</style>\n",
       "<table border=\"1\" class=\"dataframe\">\n",
       "  <thead>\n",
       "    <tr style=\"text-align: right;\">\n",
       "      <th></th>\n",
       "      <th>user_id</th>\n",
       "      <th>score</th>\n",
       "      <th>score_row</th>\n",
       "      <th>score_rank</th>\n",
       "      <th>score_dense</th>\n",
       "      <th>lag1</th>\n",
       "      <th>lag2</th>\n",
       "      <th>lead1</th>\n",
       "      <th>lead2</th>\n",
       "    </tr>\n",
       "  </thead>\n",
       "  <tbody>\n",
       "    <tr>\n",
       "      <th>0</th>\n",
       "      <td>U001</td>\n",
       "      <td>94</td>\n",
       "      <td>1</td>\n",
       "      <td>1</td>\n",
       "      <td>1</td>\n",
       "      <td>None</td>\n",
       "      <td>None</td>\n",
       "      <td>U002</td>\n",
       "      <td>U002</td>\n",
       "    </tr>\n",
       "    <tr>\n",
       "      <th>1</th>\n",
       "      <td>U002</td>\n",
       "      <td>90</td>\n",
       "      <td>2</td>\n",
       "      <td>2</td>\n",
       "      <td>2</td>\n",
       "      <td>U001</td>\n",
       "      <td>None</td>\n",
       "      <td>U002</td>\n",
       "      <td>U001</td>\n",
       "    </tr>\n",
       "    <tr>\n",
       "      <th>2</th>\n",
       "      <td>U002</td>\n",
       "      <td>82</td>\n",
       "      <td>3</td>\n",
       "      <td>3</td>\n",
       "      <td>3</td>\n",
       "      <td>U002</td>\n",
       "      <td>U001</td>\n",
       "      <td>U001</td>\n",
       "      <td>U001</td>\n",
       "    </tr>\n",
       "    <tr>\n",
       "      <th>3</th>\n",
       "      <td>U001</td>\n",
       "      <td>81</td>\n",
       "      <td>4</td>\n",
       "      <td>4</td>\n",
       "      <td>4</td>\n",
       "      <td>U002</td>\n",
       "      <td>U002</td>\n",
       "      <td>U001</td>\n",
       "      <td>U003</td>\n",
       "    </tr>\n",
       "    <tr>\n",
       "      <th>4</th>\n",
       "      <td>U001</td>\n",
       "      <td>78</td>\n",
       "      <td>5</td>\n",
       "      <td>5</td>\n",
       "      <td>5</td>\n",
       "      <td>U001</td>\n",
       "      <td>U002</td>\n",
       "      <td>U003</td>\n",
       "      <td>U002</td>\n",
       "    </tr>\n",
       "    <tr>\n",
       "      <th>5</th>\n",
       "      <td>U003</td>\n",
       "      <td>78</td>\n",
       "      <td>6</td>\n",
       "      <td>5</td>\n",
       "      <td>5</td>\n",
       "      <td>U001</td>\n",
       "      <td>U001</td>\n",
       "      <td>U002</td>\n",
       "      <td>U003</td>\n",
       "    </tr>\n",
       "    <tr>\n",
       "      <th>6</th>\n",
       "      <td>U002</td>\n",
       "      <td>64</td>\n",
       "      <td>7</td>\n",
       "      <td>7</td>\n",
       "      <td>6</td>\n",
       "      <td>U003</td>\n",
       "      <td>U001</td>\n",
       "      <td>U003</td>\n",
       "      <td>U003</td>\n",
       "    </tr>\n",
       "    <tr>\n",
       "      <th>7</th>\n",
       "      <td>U003</td>\n",
       "      <td>58</td>\n",
       "      <td>8</td>\n",
       "      <td>8</td>\n",
       "      <td>7</td>\n",
       "      <td>U002</td>\n",
       "      <td>U003</td>\n",
       "      <td>U003</td>\n",
       "      <td>None</td>\n",
       "    </tr>\n",
       "    <tr>\n",
       "      <th>8</th>\n",
       "      <td>U003</td>\n",
       "      <td>55</td>\n",
       "      <td>9</td>\n",
       "      <td>9</td>\n",
       "      <td>8</td>\n",
       "      <td>U003</td>\n",
       "      <td>U002</td>\n",
       "      <td>None</td>\n",
       "      <td>None</td>\n",
       "    </tr>\n",
       "  </tbody>\n",
       "</table>\n",
       "</div>"
      ],
      "text/plain": [
       "  user_id  score  score_row  score_rank  score_dense  lag1  lag2 lead1 lead2\n",
       "0    U001     94          1           1            1  None  None  U002  U002\n",
       "1    U002     90          2           2            2  U001  None  U002  U001\n",
       "2    U002     82          3           3            3  U002  U001  U001  U001\n",
       "3    U001     81          4           4            4  U002  U002  U001  U003\n",
       "4    U001     78          5           5            5  U001  U002  U003  U002\n",
       "5    U003     78          6           5            5  U001  U001  U002  U003\n",
       "6    U002     64          7           7            6  U003  U001  U003  U003\n",
       "7    U003     58          8           8            7  U002  U003  U003  None\n",
       "8    U003     55          9           9            8  U003  U002  None  None"
      ]
     },
     "metadata": {},
     "output_type": "display_data"
    }
   ],
   "source": [
    "display(df_user_id_orderby)"
   ]
  },
  {
   "cell_type": "code",
   "execution_count": null,
   "metadata": {},
   "outputs": [],
   "source": []
  },
  {
   "cell_type": "code",
   "execution_count": null,
   "metadata": {},
   "outputs": [],
   "source": []
  }
 ],
 "metadata": {
  "kernelspec": {
   "display_name": "Python 3",
   "language": "python",
   "name": "python3"
  },
  "language_info": {
   "codemirror_mode": {
    "name": "ipython",
    "version": 3
   },
   "file_extension": ".py",
   "mimetype": "text/x-python",
   "name": "python",
   "nbconvert_exporter": "python",
   "pygments_lexer": "ipython3",
   "version": "3.7.0"
  }
 },
 "nbformat": 4,
 "nbformat_minor": 2
}
