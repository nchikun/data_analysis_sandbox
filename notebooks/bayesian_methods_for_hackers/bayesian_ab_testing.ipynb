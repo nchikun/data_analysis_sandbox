{
 "cells": [
  {
   "cell_type": "markdown",
   "metadata": {},
   "source": [
    "# ベイズA/Bテスト（二項分布）"
   ]
  },
  {
   "cell_type": "code",
   "execution_count": 1,
   "metadata": {},
   "outputs": [],
   "source": [
    "import numpy as np\n",
    "import scipy as sp\n",
    "import pandas as pd\n",
    "import matplotlib.pyplot as plt\n",
    "import seaborn as sns"
   ]
  },
  {
   "cell_type": "code",
   "execution_count": 2,
   "metadata": {},
   "outputs": [],
   "source": [
    "class ab_testing_binomial:\n",
    "    \"\"\"\n",
    "    二項分布に従うデータのA/Bテストを実行する。\n",
    "    Parameters\n",
    "    ----------\n",
    "    n_trials: int\n",
    "        二項分布における試行回数。\n",
    "    n_occurs: int\n",
    "        二項分布における生起回数。\n",
    "    \"\"\"\n",
    "    def __init__(self,\n",
    "                 n_trials_A: int, n_occurs_A: int,\n",
    "                 n_trials_B: int, n_occurs_B: int,\n",
    "                 beta_param_a: float, beta_param_b: float, n_sampling: int):\n",
    "        self.n_trials_A = n_trials_A\n",
    "        self.n_occurs_A = n_occurs_A\n",
    "        self.n_trials_B = n_trials_B\n",
    "        self.n_occurs_B = n_occurs_B\n",
    "        self.beta_param_a = beta_param_a\n",
    "        self.beta_param_b = beta_param_b\n",
    "        self.n_sampling = n_sampling\n",
    "        self.post_beta_info = None\n",
    "        \n",
    "    def posterior_beta(self) -> dict:\n",
    "        \"\"\"\n",
    "        二項分布の生起確率を共役事前分布（ベータ分布）で計算する。\n",
    "        Parameters\n",
    "        ----------        \n",
    "        n_sampling: int\n",
    "            生起確率のサンプリング数。\n",
    "\n",
    "        Returns\n",
    "        -------\n",
    "        post_beta: list of float\n",
    "            生起確率のサンプリング結果。\n",
    "        \"\"\"\n",
    "        post_beta_param_a_data_A = self.beta_param_a + self.n_occurs_A\n",
    "        post_beta_param_b_data_A = self.beta_param_b + self.n_trials_A - self.n_occurs_A\n",
    "        post_beta_param_a_data_B = self.beta_param_a + self.n_occurs_B\n",
    "        post_beta_param_b_data_B = self.beta_param_b + self.n_trials_B - self.n_occurs_B\n",
    "        post_beta_A = sp.stats.beta(post_beta_param_a_data_A, post_beta_param_b_data_A)\n",
    "        post_beta_B = sp.stats.beta(post_beta_param_a_data_B, post_beta_param_b_data_B)\n",
    "        post_beta_info = {\n",
    "            'post_beta_A': post_beta_A.rvs(self.n_sampling),\n",
    "            'post_beta_B': post_beta_B.rvs(self.n_sampling),\n",
    "            'mean_A': self._mean(post_beta_param_a_data_A, post_beta_param_b_data_A),\n",
    "            'mean_B': self._mean(post_beta_param_a_data_B, post_beta_param_b_data_B),\n",
    "            'var_A': self._var(post_beta_param_a_data_A, post_beta_param_b_data_A),\n",
    "            'var_B': self._var(post_beta_param_a_data_B, post_beta_param_b_data_B),\n",
    "        }\n",
    "        if self.post_beta_info is None:\n",
    "            self.post_beta_info = post_beta_info\n",
    "        return post_beta_info\n",
    "    \n",
    "    def diff_sampling(self):\n",
    "        if self.post_beta_info is None:\n",
    "            self.post_beta_info = self.posterior_beta()\n",
    "            \n",
    "        A_minus_B = self.post_beta_info['post_beta_A'] - self.post_beta_info['post_beta_B']\n",
    "        B_minus_A = self.post_beta_info['post_beta_B'] - self.post_beta_info['post_beta_A']\n",
    "        diff_info = {\n",
    "            'A_minus_B': A_minus_B,\n",
    "            'B_minus_A': B_minus_A\n",
    "        }\n",
    "        return diff_info\n",
    "    \n",
    "    def classification_score(self):\n",
    "        if self.post_beta_info is None:\n",
    "            self.post_beta_info = self.posterior_beta()\n",
    "        \n",
    "        A_more_than_B = (self.post_beta_info['post_beta_A'] > self.post_beta_info['post_beta_B']).mean()\n",
    "        B_more_than_A = 1 - A_more_than_B\n",
    "        \n",
    "        class_info = {\n",
    "            'A_more_than_B': A_more_than_B,\n",
    "            'B_more_than_A': B_more_than_A\n",
    "        }\n",
    "        return class_info\n",
    "\n",
    "# statistic\n",
    "    def _mean(self, a: float, b: float):\n",
    "        return a / (a + b)\n",
    "\n",
    "    def _var(self, a: float, b: float):\n",
    "        return (a * b) / ((a + b) ** 2 * (a + b + 1))"
   ]
  },
  {
   "cell_type": "code",
   "execution_count": 3,
   "metadata": {},
   "outputs": [],
   "source": [
    "visitors_to_A = 1300\n",
    "visitors_to_B = 1250\n",
    "conversions_from_A = 120\n",
    "conversions_from_B = 130\n",
    "prior_a = 1\n",
    "prior_b = 1\n",
    "n_sampling = 10000000\n",
    "ab_test = ab_testing_binomial(visitors_to_A, conversions_from_A, \n",
    "                              visitors_to_B, conversions_from_B, \n",
    "                              prior_a, prior_b,\n",
    "                              n_sampling)"
   ]
  },
  {
   "cell_type": "code",
   "execution_count": 4,
   "metadata": {},
   "outputs": [],
   "source": [
    "pb = ab_test.posterior_beta()\n",
    "ds = ab_test.diff_sampling()\n",
    "cs = ab_test.classification_score()"
   ]
  },
  {
   "cell_type": "code",
   "execution_count": 5,
   "metadata": {},
   "outputs": [
    {
     "name": "stdout",
     "output_type": "stream",
     "text": [
      "0.09293394777265745\n",
      "0.10463258785942492\n",
      "6.469472687954446e-05\n",
      "7.476824374881456e-05\n"
     ]
    }
   ],
   "source": [
    "print(pb['mean_A'])\n",
    "print(pb['mean_B'])\n",
    "print(pb['var_A'])\n",
    "print(pb['var_B'])"
   ]
  },
  {
   "cell_type": "code",
   "execution_count": 6,
   "metadata": {},
   "outputs": [
    {
     "data": {
      "text/plain": [
       "<matplotlib.axes._subplots.AxesSubplot at 0x1241d3240>"
      ]
     },
     "execution_count": 6,
     "metadata": {},
     "output_type": "execute_result"
    },
    {
     "data": {
      "image/png": "[encoded data removed]",
      "text/plain": [
       "<Figure size 576x432 with 1 Axes>"
      ]
     },
     "metadata": {
      "needs_background": "light"
     },
     "output_type": "display_data"
    }
   ],
   "source": [
    "fig = plt.figure(figsize=(8, 6))\n",
    "sns.distplot(pb['post_beta_A'], kde=True, rug=False, bins=50)\n",
    "sns.distplot(pb['post_beta_B'], kde=True, rug=False, bins=50)\n",
    "sns.distplot(ds['A_minus_B'], kde=True, rug=False, bins=50)\n",
    "sns.distplot(ds['B_minus_A'], kde=True, rug=False, bins=50)"
   ]
  },
  {
   "cell_type": "code",
   "execution_count": 7,
   "metadata": {},
   "outputs": [
    {
     "name": "stdout",
     "output_type": "stream",
     "text": [
      "0.1606013\n",
      "0.8393987\n"
     ]
    }
   ],
   "source": [
    "print(cs['A_more_than_B'])\n",
    "print(cs['B_more_than_A'])"
   ]
  },
  {
   "cell_type": "code",
   "execution_count": null,
   "metadata": {},
   "outputs": [],
   "source": []
  },
  {
   "cell_type": "code",
   "execution_count": null,
   "metadata": {},
   "outputs": [],
   "source": []
  }
 ],
 "metadata": {
  "kernelspec": {
   "display_name": "Python 3",
   "language": "python",
   "name": "python3"
  },
  "language_info": {
   "codemirror_mode": {
    "name": "ipython",
    "version": 3
   },
   "file_extension": ".py",
   "mimetype": "text/x-python",
   "name": "python",
   "nbconvert_exporter": "python",
   "pygments_lexer": "ipython3",
   "version": "3.7.0"
  }
 },
 "nbformat": 4,
 "nbformat_minor": 2
}
