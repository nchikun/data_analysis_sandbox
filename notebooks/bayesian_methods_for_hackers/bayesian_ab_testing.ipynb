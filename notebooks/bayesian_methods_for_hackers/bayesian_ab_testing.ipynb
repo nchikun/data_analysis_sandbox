{
 "cells": [
  {
   "cell_type": "markdown",
   "metadata": {},
   "source": [
    "# ベイズA/Bテスト（二項分布）"
   ]
  },
  {
   "cell_type": "code",
   "execution_count": 1,
   "metadata": {},
   "outputs": [],
   "source": [
    "import numpy as np\n",
    "import scipy as sp\n",
    "import pandas as pd\n",
    "import pymc3\n",
    "import matplotlib.pyplot as plt\n",
    "import seaborn as sns"
   ]
  },
  {
   "cell_type": "code",
   "execution_count": 2,
   "metadata": {},
   "outputs": [],
   "source": [
    "class bayesian_binomial:\n",
    "    \"\"\"\n",
    "    二項分布のベイズ推定を実行。\n",
    "    \n",
    "    Parameters\n",
    "    ----------\n",
    "    n_trials: int\n",
    "        二項分布における試行回数。\n",
    "        \n",
    "    n_occurs: int\n",
    "        二項分布における生起回数。\n",
    "    \"\"\"\n",
    "    \n",
    "    def __init__(self, n_trials: int, n_occurs: int):\n",
    "        self.n_trials = n_trials\n",
    "        self.n_occurs = n_occurs\n",
    "        \n",
    "    def posterior_beta(self, prior_a, prior_b):\n",
    "        \"\"\"\n",
    "        二項分布の生起確率を共役事前分布（ベータ分布）で計算する。\n",
    "        \n",
    "        Parameters\n",
    "        ----------\n",
    "        prior_a: float\n",
    "            ベータ分布のパラメータ。b以下の値。\n",
    "            \n",
    "        prior_b: float\n",
    "            ベータ分布のパラメータ。a以上の値。\n",
    "            \n",
    "        Returns\n",
    "        -------\n",
    "        post_beta: sp.stats.beta\n",
    "            ベータ事後分布オブジェクト。rvs関数によりサンプリング可能。\n",
    "        \"\"\"\n",
    "        post_beta = sp.stats.beta(prior_a+self.n_occurs, prior_b+self.n_trials-self.n_occurs)\n",
    "        return post_beta\n",
    "    \n",
    "    def posterior_beta_online(self):\n",
    "        \"\"\"\n",
    "        事前の知識（ハイパーパラメータ）を利用して\n",
    "        新しいデータを元に事後分布を更新していく。\n",
    "        \"\"\""
   ]
  },
  {
   "cell_type": "code",
   "execution_count": 3,
   "metadata": {},
   "outputs": [],
   "source": [
    "visitors_to_A = 1300\n",
    "visitors_to_B = 1000\n",
    "conversions_from_A = 120\n",
    "conversions_from_B = 180"
   ]
  },
  {
   "cell_type": "code",
   "execution_count": 4,
   "metadata": {},
   "outputs": [],
   "source": [
    "bb_A = bayesian_binomial(visitors_to_A, conversions_from_A).posterior_beta(1, 1)\n",
    "bb_B = bayesian_binomial(visitors_to_B, conversions_from_B).posterior_beta(1, 1)"
   ]
  },
  {
   "cell_type": "code",
   "execution_count": 5,
   "metadata": {},
   "outputs": [
    {
     "data": {
      "text/plain": [
       "<matplotlib.axes._subplots.AxesSubplot at 0x11871dfd0>"
      ]
     },
     "execution_count": 5,
     "metadata": {},
     "output_type": "execute_result"
    },
    {
     "data": {
      "image/png": "[encoded data removed]",
      "text/plain": [
       "<Figure size 432x288 with 1 Axes>"
      ]
     },
     "metadata": {
      "needs_background": "light"
     },
     "output_type": "display_data"
    }
   ],
   "source": [
    "# Bの方が高い\n",
    "post_beta_A = bb_A.rvs(10000)\n",
    "post_beta_B = bb_B.rvs(10000)\n",
    "sns.distplot(post_beta_A, kde=True, rug=False, bins=50) \n",
    "sns.distplot(post_beta_B, kde=True, rug=False, bins=50) \n",
    "sns.distplot(post_beta_B - post_beta_A, kde=True, rug=False, bins=50) "
   ]
  },
  {
   "cell_type": "code",
   "execution_count": 6,
   "metadata": {},
   "outputs": [
    {
     "name": "stdout",
     "output_type": "stream",
     "text": [
      "0.0877360134037259\n"
     ]
    },
    {
     "data": {
      "text/plain": [
       "<matplotlib.axes._subplots.AxesSubplot at 0x118b477b8>"
      ]
     },
     "execution_count": 6,
     "metadata": {},
     "output_type": "execute_result"
    },
    {
     "data": {
      "image/png": "[encoded data removed]",
      "text/plain": [
       "<Figure size 432x288 with 1 Axes>"
      ]
     },
     "metadata": {
      "needs_background": "light"
     },
     "output_type": "display_data"
    }
   ],
   "source": [
    "# 平均的にサイトBの方が3.3%ほどAよりコンバージョン率が高い（あまり意味なし）\n",
    "print((post_beta_B - post_beta_A).mean())\n",
    "sns.distplot(post_beta_B - post_beta_A, kde=True, rug=False, bins=50)"
   ]
  },
  {
   "cell_type": "code",
   "execution_count": 7,
   "metadata": {},
   "outputs": [],
   "source": [
    "# ユーザにコンバージョンの意志があるならA"
   ]
  },
  {
   "cell_type": "code",
   "execution_count": 8,
   "metadata": {},
   "outputs": [
    {
     "data": {
      "text/plain": [
       "0.0"
      ]
     },
     "execution_count": 8,
     "metadata": {},
     "output_type": "execute_result"
    }
   ],
   "source": [
    "(post_beta_A > post_beta_B).mean()"
   ]
  },
  {
   "cell_type": "code",
   "execution_count": 9,
   "metadata": {},
   "outputs": [],
   "source": [
    "# サイトA（訪問者数1300人中120人がコンバージョン）\n",
    "visitors_to_A = 1300\n",
    "conversions_from_A = 120\n",
    "\n",
    "# サイトB（訪問者数1275人中125人がコンバージョン）\n",
    "visitors_to_B = 1275\n",
    "conversions_from_B = 125"
   ]
  },
  {
   "cell_type": "code",
   "execution_count": 10,
   "metadata": {},
   "outputs": [
    {
     "ename": "NameError",
     "evalue": "name 'posterior_dist' is not defined",
     "output_type": "error",
     "traceback": [
      "\u001b[0;31m---------------------------------------------------------------------------\u001b[0m",
      "\u001b[0;31mNameError\u001b[0m                                 Traceback (most recent call last)",
      "\u001b[0;32m<ipython-input-10-c128ac1535db>\u001b[0m in \u001b[0;36m<module>\u001b[0;34m\u001b[0m\n\u001b[0;32m----> 1\u001b[0;31m \u001b[0ma\u001b[0m \u001b[0;34m=\u001b[0m \u001b[0mposterior_dist\u001b[0m\u001b[0;34m(\u001b[0m\u001b[0mvisitors_to_A\u001b[0m\u001b[0;34m,\u001b[0m \u001b[0mconversions_from_A\u001b[0m\u001b[0;34m,\u001b[0m \u001b[0;36m1\u001b[0m\u001b[0;34m,\u001b[0m \u001b[0;36m1\u001b[0m\u001b[0;34m)\u001b[0m\u001b[0;34m.\u001b[0m\u001b[0mrvs\u001b[0m\u001b[0;34m(\u001b[0m\u001b[0;36m2000\u001b[0m\u001b[0;34m)\u001b[0m\u001b[0;34m\u001b[0m\u001b[0m\n\u001b[0m\u001b[1;32m      2\u001b[0m \u001b[0msns\u001b[0m\u001b[0;34m.\u001b[0m\u001b[0mdistplot\u001b[0m\u001b[0;34m(\u001b[0m\u001b[0ma\u001b[0m\u001b[0;34m,\u001b[0m \u001b[0mkde\u001b[0m\u001b[0;34m=\u001b[0m\u001b[0;32mTrue\u001b[0m\u001b[0;34m,\u001b[0m \u001b[0mrug\u001b[0m\u001b[0;34m=\u001b[0m\u001b[0;32mFalse\u001b[0m\u001b[0;34m,\u001b[0m \u001b[0mbins\u001b[0m\u001b[0;34m=\u001b[0m\u001b[0;36m10\u001b[0m\u001b[0;34m)\u001b[0m\u001b[0;34m\u001b[0m\u001b[0m\n",
      "\u001b[0;31mNameError\u001b[0m: name 'posterior_dist' is not defined"
     ]
    }
   ],
   "source": [
    "a = posterior_dist(visitors_to_A, conversions_from_A, 1, 1).rvs(2000)\n",
    "sns.distplot(a, kde=True, rug=False, bins=10) "
   ]
  },
  {
   "cell_type": "code",
   "execution_count": null,
   "metadata": {},
   "outputs": [],
   "source": []
  },
  {
   "cell_type": "code",
   "execution_count": null,
   "metadata": {},
   "outputs": [],
   "source": []
  }
 ],
 "metadata": {
  "kernelspec": {
   "display_name": "Python 3",
   "language": "python",
   "name": "python3"
  },
  "language_info": {
   "codemirror_mode": {
    "name": "ipython",
    "version": 3
   },
   "file_extension": ".py",
   "mimetype": "text/x-python",
   "name": "python",
   "nbconvert_exporter": "python",
   "pygments_lexer": "ipython3",
   "version": "3.7.0"
  }
 },
 "nbformat": 4,
 "nbformat_minor": 2
}
