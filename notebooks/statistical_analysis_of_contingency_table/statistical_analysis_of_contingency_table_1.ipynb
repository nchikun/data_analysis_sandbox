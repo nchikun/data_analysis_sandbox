{
 "cells": [
  {
   "cell_type": "markdown",
   "metadata": {},
   "source": [
    "# 分割表の統計解析 Chapter 1\n",
    "## 目的\n",
    "- 説明変数と目的変数の関連性（カイ二乗適合度検定,尤度比検定）\n",
    "- 説明変数と目的変数の関連性の度合（コレスポンデンス分析）\n",
    "- 処理群と対照群の差\n",
    "- 交絡因子の解明によるシンプソンパラドックスの抑制"
   ]
  },
  {
   "cell_type": "code",
   "execution_count": 1,
   "metadata": {},
   "outputs": [],
   "source": [
    "import sys\n",
    "sys.path.append('../../lib/')"
   ]
  },
  {
   "cell_type": "code",
   "execution_count": 2,
   "metadata": {},
   "outputs": [],
   "source": [
    "import numpy as np\n",
    "import scipy as sp\n",
    "import scipy.stats as stats\n",
    "import pandas as pd\n",
    "import seaborn as sns\n",
    "import japanize_matplotlib \n",
    "import matplotlib.pyplot as plt\n",
    "from cta import ContingencyTableAnalysis as CTA"
   ]
  },
  {
   "cell_type": "markdown",
   "metadata": {},
   "source": [
    "## 共通メソッド"
   ]
  },
  {
   "cell_type": "code",
   "execution_count": 3,
   "metadata": {},
   "outputs": [],
   "source": [
    "def summary(df, head_or_tail='head', n=0):\n",
    "    if n==0:\n",
    "        print(df.shape)\n",
    "        display(df)\n",
    "    else:\n",
    "        display_info = {'head': df.head(n), 'tail': df.tail(n)}\n",
    "        print(df.shape)\n",
    "        display(display_info[head_or_tail])"
   ]
  },
  {
   "cell_type": "markdown",
   "metadata": {},
   "source": [
    "## 行列和が確定的"
   ]
  },
  {
   "cell_type": "code",
   "execution_count": 4,
   "metadata": {},
   "outputs": [
    {
     "name": "stdout",
     "output_type": "stream",
     "text": [
      "(4, 4)\n"
     ]
    },
    {
     "data": {
      "text/html": [
       "<div>\n",
       "<style scoped>\n",
       "    .dataframe tbody tr th:only-of-type {\n",
       "        vertical-align: middle;\n",
       "    }\n",
       "\n",
       "    .dataframe tbody tr th {\n",
       "        vertical-align: top;\n",
       "    }\n",
       "\n",
       "    .dataframe thead th {\n",
       "        text-align: right;\n",
       "    }\n",
       "</style>\n",
       "<table border=\"1\" class=\"dataframe\">\n",
       "  <thead>\n",
       "    <tr style=\"text-align: right;\">\n",
       "      <th></th>\n",
       "      <th>代数_優</th>\n",
       "      <th>代数_良</th>\n",
       "      <th>代数_可</th>\n",
       "      <th>代数_不可</th>\n",
       "    </tr>\n",
       "  </thead>\n",
       "  <tbody>\n",
       "    <tr>\n",
       "      <th>微積_優</th>\n",
       "      <td>18</td>\n",
       "      <td>7</td>\n",
       "      <td>1</td>\n",
       "      <td>2</td>\n",
       "    </tr>\n",
       "    <tr>\n",
       "      <th>微積_良</th>\n",
       "      <td>16</td>\n",
       "      <td>13</td>\n",
       "      <td>17</td>\n",
       "      <td>12</td>\n",
       "    </tr>\n",
       "    <tr>\n",
       "      <th>微積_可</th>\n",
       "      <td>7</td>\n",
       "      <td>3</td>\n",
       "      <td>10</td>\n",
       "      <td>21</td>\n",
       "    </tr>\n",
       "    <tr>\n",
       "      <th>微積_不可</th>\n",
       "      <td>7</td>\n",
       "      <td>2</td>\n",
       "      <td>3</td>\n",
       "      <td>6</td>\n",
       "    </tr>\n",
       "  </tbody>\n",
       "</table>\n",
       "</div>"
      ],
      "text/plain": [
       "       代数_優  代数_良  代数_可  代数_不可\n",
       "微積_優     18     7     1      2\n",
       "微積_良     16    13    17     12\n",
       "微積_可      7     3    10     21\n",
       "微積_不可     7     2     3      6"
      ]
     },
     "metadata": {},
     "output_type": "display_data"
    }
   ],
   "source": [
    "# サンプル\n",
    "grades = ['優', '良', '可', '不可']\n",
    "df_math_grade = pd.DataFrame(\n",
    "    [[18, 7, 1, 2], [16, 13, 17, 12], [7, 3, 10, 21], [7, 2, 3, 6]],\n",
    "    ['微積' + '_' + grade for grade in grades],\n",
    "    ['代数' + '_' + grade for grade in grades]\n",
    ")\n",
    "summary(df_math_grade)"
   ]
  },
  {
   "cell_type": "code",
   "execution_count": 5,
   "metadata": {},
   "outputs": [],
   "source": [
    "# オブジェクト\n",
    "cta_math_grade = CTA(df_math_grade, '微積_合計', '代数_合計', 'all')"
   ]
  },
  {
   "cell_type": "code",
   "execution_count": 6,
   "metadata": {},
   "outputs": [
    {
     "name": "stdout",
     "output_type": "stream",
     "text": [
      "(4, 4)\n"
     ]
    },
    {
     "data": {
      "text/html": [
       "<div>\n",
       "<style scoped>\n",
       "    .dataframe tbody tr th:only-of-type {\n",
       "        vertical-align: middle;\n",
       "    }\n",
       "\n",
       "    .dataframe tbody tr th {\n",
       "        vertical-align: top;\n",
       "    }\n",
       "\n",
       "    .dataframe thead th {\n",
       "        text-align: right;\n",
       "    }\n",
       "</style>\n",
       "<table border=\"1\" class=\"dataframe\">\n",
       "  <thead>\n",
       "    <tr style=\"text-align: right;\">\n",
       "      <th></th>\n",
       "      <th>代数_優</th>\n",
       "      <th>代数_良</th>\n",
       "      <th>代数_可</th>\n",
       "      <th>代数_不可</th>\n",
       "    </tr>\n",
       "  </thead>\n",
       "  <tbody>\n",
       "    <tr>\n",
       "      <th>微積_優</th>\n",
       "      <td>0.063924</td>\n",
       "      <td>0.033294</td>\n",
       "      <td>0.041284</td>\n",
       "      <td>0.054602</td>\n",
       "    </tr>\n",
       "    <tr>\n",
       "      <th>微積_良</th>\n",
       "      <td>0.132414</td>\n",
       "      <td>0.068966</td>\n",
       "      <td>0.085517</td>\n",
       "      <td>0.113103</td>\n",
       "    </tr>\n",
       "    <tr>\n",
       "      <th>微積_可</th>\n",
       "      <td>0.093603</td>\n",
       "      <td>0.048751</td>\n",
       "      <td>0.060452</td>\n",
       "      <td>0.079952</td>\n",
       "    </tr>\n",
       "    <tr>\n",
       "      <th>微積_不可</th>\n",
       "      <td>0.041094</td>\n",
       "      <td>0.021403</td>\n",
       "      <td>0.026540</td>\n",
       "      <td>0.035101</td>\n",
       "    </tr>\n",
       "  </tbody>\n",
       "</table>\n",
       "</div>"
      ],
      "text/plain": [
       "           代数_優      代数_良      代数_可     代数_不可\n",
       "微積_優   0.063924  0.033294  0.041284  0.054602\n",
       "微積_良   0.132414  0.068966  0.085517  0.113103\n",
       "微積_可   0.093603  0.048751  0.060452  0.079952\n",
       "微積_不可  0.041094  0.021403  0.026540  0.035101"
      ]
     },
     "metadata": {},
     "output_type": "display_data"
    }
   ],
   "source": [
    "# 最尤推定値\n",
    "summary(cta_math_grade.maximum_likelihood_estimate())"
   ]
  },
  {
   "cell_type": "code",
   "execution_count": 7,
   "metadata": {},
   "outputs": [
    {
     "name": "stdout",
     "output_type": "stream",
     "text": [
      "(4, 4)\n"
     ]
    },
    {
     "data": {
      "text/html": [
       "<div>\n",
       "<style scoped>\n",
       "    .dataframe tbody tr th:only-of-type {\n",
       "        vertical-align: middle;\n",
       "    }\n",
       "\n",
       "    .dataframe tbody tr th {\n",
       "        vertical-align: top;\n",
       "    }\n",
       "\n",
       "    .dataframe thead th {\n",
       "        text-align: right;\n",
       "    }\n",
       "</style>\n",
       "<table border=\"1\" class=\"dataframe\">\n",
       "  <thead>\n",
       "    <tr style=\"text-align: right;\">\n",
       "      <th></th>\n",
       "      <th>代数_優</th>\n",
       "      <th>代数_良</th>\n",
       "      <th>代数_可</th>\n",
       "      <th>代数_不可</th>\n",
       "    </tr>\n",
       "  </thead>\n",
       "  <tbody>\n",
       "    <tr>\n",
       "      <th>微積_優</th>\n",
       "      <td>9.268966</td>\n",
       "      <td>4.827586</td>\n",
       "      <td>5.986207</td>\n",
       "      <td>7.917241</td>\n",
       "    </tr>\n",
       "    <tr>\n",
       "      <th>微積_良</th>\n",
       "      <td>19.200000</td>\n",
       "      <td>10.000000</td>\n",
       "      <td>12.400000</td>\n",
       "      <td>16.400000</td>\n",
       "    </tr>\n",
       "    <tr>\n",
       "      <th>微積_可</th>\n",
       "      <td>13.572414</td>\n",
       "      <td>7.068966</td>\n",
       "      <td>8.765517</td>\n",
       "      <td>11.593103</td>\n",
       "    </tr>\n",
       "    <tr>\n",
       "      <th>微積_不可</th>\n",
       "      <td>5.958621</td>\n",
       "      <td>3.103448</td>\n",
       "      <td>3.848276</td>\n",
       "      <td>5.089655</td>\n",
       "    </tr>\n",
       "  </tbody>\n",
       "</table>\n",
       "</div>"
      ],
      "text/plain": [
       "            代数_優       代数_良       代数_可      代数_不可\n",
       "微積_優    9.268966   4.827586   5.986207   7.917241\n",
       "微積_良   19.200000  10.000000  12.400000  16.400000\n",
       "微積_可   13.572414   7.068966   8.765517  11.593103\n",
       "微積_不可   5.958621   3.103448   3.848276   5.089655"
      ]
     },
     "metadata": {},
     "output_type": "display_data"
    }
   ],
   "source": [
    "# 期待値\n",
    "summary(cta_math_grade.get_expected_frequency())"
   ]
  },
  {
   "cell_type": "code",
   "execution_count": 8,
   "metadata": {},
   "outputs": [
    {
     "data": {
      "text/plain": [
       "<matplotlib.axes._subplots.AxesSubplot at 0x121355278>"
      ]
     },
     "execution_count": 8,
     "metadata": {},
     "output_type": "execute_result"
    },
    {
     "data": {
      "image/png": "[encoded data removed]",
      "text/plain": [
       "<Figure size 576x432 with 2 Axes>"
      ]
     },
     "metadata": {
      "needs_background": "light"
     },
     "output_type": "display_data"
    }
   ],
   "source": [
    "# 部分検定統計量（乖離度）\n",
    "plt.figure(figsize=(8, 6))\n",
    "sns.heatmap(cta_math_grade.get_partial_fit(), cmap='Blues', annot=True)"
   ]
  },
  {
   "cell_type": "code",
   "execution_count": null,
   "metadata": {},
   "outputs": [],
   "source": [
    "# 独立性検定\n"
   ]
  },
  {
   "cell_type": "code",
   "execution_count": 9,
   "metadata": {},
   "outputs": [
    {
     "name": "stdout",
     "output_type": "stream",
     "text": [
      "{'chi2_fit': 36.35368807073809, 'chi2_per': 21.665994333461924, 'test_result': False}\n"
     ]
    }
   ],
   "source": [
    "# 検定\n",
    "print(cta_math_grade.chi2_fit_test(0.99))"
   ]
  },
  {
   "cell_type": "markdown",
   "metadata": {},
   "source": [
    "## 行和または列和が確定的"
   ]
  },
  {
   "cell_type": "code",
   "execution_count": 10,
   "metadata": {},
   "outputs": [
    {
     "data": {
      "text/html": [
       "<div>\n",
       "<style scoped>\n",
       "    .dataframe tbody tr th:only-of-type {\n",
       "        vertical-align: middle;\n",
       "    }\n",
       "\n",
       "    .dataframe tbody tr th {\n",
       "        vertical-align: top;\n",
       "    }\n",
       "\n",
       "    .dataframe thead th {\n",
       "        text-align: right;\n",
       "    }\n",
       "</style>\n",
       "<table border=\"1\" class=\"dataframe\">\n",
       "  <thead>\n",
       "    <tr style=\"text-align: right;\">\n",
       "      <th></th>\n",
       "      <th>A</th>\n",
       "      <th>B</th>\n",
       "      <th>C</th>\n",
       "    </tr>\n",
       "  </thead>\n",
       "  <tbody>\n",
       "    <tr>\n",
       "      <th>0</th>\n",
       "      <td>1</td>\n",
       "      <td>1</td>\n",
       "      <td>1</td>\n",
       "    </tr>\n",
       "    <tr>\n",
       "      <th>1</th>\n",
       "      <td>2</td>\n",
       "      <td>2</td>\n",
       "      <td>2</td>\n",
       "    </tr>\n",
       "    <tr>\n",
       "      <th>2</th>\n",
       "      <td>3</td>\n",
       "      <td>3</td>\n",
       "      <td>3</td>\n",
       "    </tr>\n",
       "  </tbody>\n",
       "</table>\n",
       "</div>"
      ],
      "text/plain": [
       "   A  B  C\n",
       "0  1  1  1\n",
       "1  2  2  2\n",
       "2  3  3  3"
      ]
     },
     "execution_count": 10,
     "metadata": {},
     "output_type": "execute_result"
    }
   ],
   "source": []
  },
  {
   "cell_type": "code",
   "execution_count": null,
   "metadata": {},
   "outputs": [],
   "source": []
  }
 ],
 "metadata": {
  "kernelspec": {
   "display_name": "Python 3",
   "language": "python",
   "name": "python3"
  },
  "language_info": {
   "codemirror_mode": {
    "name": "ipython",
    "version": 3
   },
   "file_extension": ".py",
   "mimetype": "text/x-python",
   "name": "python",
   "nbconvert_exporter": "python",
   "pygments_lexer": "ipython3",
   "version": "3.7.0"
  }
 },
 "nbformat": 4,
 "nbformat_minor": 2
}
