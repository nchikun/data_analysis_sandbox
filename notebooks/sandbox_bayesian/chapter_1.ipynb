{
 "cells": [
  {
   "cell_type": "markdown",
   "metadata": {},
   "source": [
    "# Pythonによるベイズ統計モデリング（第1章）"
   ]
  },
  {
   "cell_type": "code",
   "execution_count": 1,
   "metadata": {},
   "outputs": [],
   "source": [
    "import plotly\n",
    "import daft\n",
    "import numpy as np\n",
    "import pandas as pd\n",
    "import seaborn as sns\n",
    "import plotly.plotly as py\n",
    "import plotly.graph_objs as go\n",
    "from scipy import stats\n",
    "from plotly import tools\n",
    "from matplotlib import rc\n",
    "from matplotlib.ticker import *\n",
    "import matplotlib as mpl\n",
    "rc(\"font\", family=\"Ricty\", size=15)\n",
    "rc('text', usetex=True)\n",
    "mpl.rcParams['text.usetex'] = True\n",
    "import warnings\n",
    "warnings.filterwarnings('ignore')"
   ]
  },
  {
   "cell_type": "markdown",
   "metadata": {},
   "source": [
    "## グラフィカルモデル可視化"
   ]
  },
  {
   "cell_type": "code",
   "execution_count": 2,
   "metadata": {},
   "outputs": [
    {
     "data": {
      "text/plain": [
       "<matplotlib.axes._axes.Axes at 0x11b2d8a90>"
      ]
     },
     "execution_count": 2,
     "metadata": {},
     "output_type": "execute_result"
    },
    {
     "data": {
      "image/png": "[encoded data removed]",
      "text/plain": [
       "<Figure size 340.157x340.157 with 1 Axes>"
      ]
     },
     "metadata": {},
     "output_type": "display_data"
    }
   ],
   "source": [
    "pgm = daft.PGM(shape=[6,6])\n",
    "\n",
    "# Nodes\n",
    "pgm.add_node(daft.Node(\"alpha\", r\"$\\alpha$\", 4, 5))\n",
    "pgm.add_node(daft.Node(\"tau\", r\"$\\tau$\", 1, 4.5))\n",
    "pgm.add_node(daft.Node(\"lambda_1\", r\"$\\lambda_1$\", 3, 4))\n",
    "pgm.add_node(daft.Node(\"lambda_2\", r\"$\\lambda_2$\", 5, 4))\n",
    "pgm.add_node(daft.Node(\"lambda\",  r\"$\\lambda$\", 2, 3))\n",
    "pgm.add_node(daft.Node(\"obs\", \"obs\", 2, 2, observed=True))\n",
    "\n",
    "# Edges\n",
    "pgm.add_edge(\"alpha\", \"lambda_1\")\n",
    "pgm.add_edge(\"alpha\", \"lambda_2\")\n",
    "pgm.add_edge(\"tau\", \"lambda\")\n",
    "pgm.add_edge(\"lambda_1\", \"lambda\")\n",
    "pgm.add_edge(\"lambda_2\", \"lambda\")\n",
    "pgm.add_edge(\"lambda\", \"obs\")\n",
    "\n",
    "# visualize\n",
    "pgm.render()"
   ]
  },
  {
   "cell_type": "markdown",
   "metadata": {},
   "source": [
    "## コイン投げ問題\n",
    "- 確率的に2値のいずれかの結果が得られる試行をN回繰り返したデータを使用\n",
    "- 問題設定\n",
    "    - この2値は平等な確率で現れるのか？\n",
    "    - この2値はどれほど偏っているのか？\n",
    "- e.g. コインの裏表/偽物と本物/安全と危険/健康と不健康\n",
    "- 統計モデルは二項分布\n",
    "- 自然共役事前分布はベータ分布"
   ]
  },
  {
   "cell_type": "code",
   "execution_count": 3,
   "metadata": {},
   "outputs": [
    {
     "name": "stdout",
     "output_type": "stream",
     "text": [
      "[21 18 19 19 19 18 19 21 20 21 24 19 19 18 13 15 20 16 18 17 17 14 15 20\n",
      " 14 19 18 12 23 17 19 16 21 16 22 14 20 17 11 16 23 18 21 21 17 16 14 11\n",
      " 15 18 21 19 21 12 22 19 19 16 15 17 15 17 23 22 16 20 22 22 17 21 21 15\n",
      " 14 23 20 18 19 12 18 19 21 21 18 17 22 13 12 24 18 19 15 16 18 19 18 17\n",
      " 15 18 24 20 19 16 22 15 17 17 24 19 16 25 16 15 17 16 17 22 17 19 17 20\n",
      " 21 22 18 17 19 16 17 21 18 20 22 16 19 19 19 19 18 24 21 15 19 13 21 14\n",
      " 17 11 18 19 17 14 17 20 16 21 12 18 19 16 21 21 21 18 16 13 17 14 16 18\n",
      " 16 15 19 13 22 14 24 20 15 17 20 18 21 18 22 14 19 16 12 15 16 18 17 21\n",
      " 15 18 22 18 21 18 21 19 20 17 15 17 19 18 21 15 15 24 19 18 11 15 19 22\n",
      " 19 16 18 18 16 16 17 19 18 17 23 20 21 17 20 18 21 12 22 24 19 15 18 19\n",
      " 16 16 17 18 13 14 13 20 19 18 17 20 17 17 19 19 19 16 24 22 18 19 18 22\n",
      " 18 18 17 14 19 20 17 20 16 16 21 20 16 20 17 14 16 10 16 20 13 16 15 24\n",
      " 20 15 15 19 15 21 17 19 19 15 16 16 16 23 22 22 18 18 20 15 15 20 15 19\n",
      " 16 17 19 19 19 22 15 20 17 18 20 17 18 13 20 22 22 19 20 17 19 18 17 16\n",
      " 15 18 17 13 17 19 19 15 20 23 18 12 22 19 15 16 17 18 19 18 12 17 18 19\n",
      " 20 20 17 24 20 18 19 18 20 24 16 17 20 15 20 21 18 21 16 14 19 21 22 16\n",
      " 20 20 15 20 20 16 22 21 21 16 17 18 15 21 18 16 19 19 19 15 18 11 19 16\n",
      " 21 22 14 22 14 14 13 16 23 21 24 18 15 23 17 14 15 21 21 21 16 19 20 17\n",
      " 21 16 15 15 20 16 19 11 20 17 18 15 15 22 18 19 21 17 21 17 19 13 19 12\n",
      " 17 20 19 19 18 19 16 18 14 20 21 19 23 19 15 21 17 19 16 10 22 20 14 14\n",
      " 16 13 17 18 16 14 22 19 23 17 15 19 20 15 15 19 21 18 17 20 21 18 24 17\n",
      " 24 15 21 20 18 19 19 14 20 21 21 16 18 15 20 19 17 14 19 15 16 19 18 13\n",
      " 18 16 18 16 20 16 18 16 15 16 18 23 18 19 24 18 16 18 20 24 12 14 18 19\n",
      " 23 15 14 16 21 14 13 17 17 17 23 11 18 21 16 18 17 15 19 15 17 11 10 20\n",
      " 20 18 13 20 13 14 18 17 14 13 19 21 17 19 18 23 17 21 20 15 15 21 18 15\n",
      " 15 10 14 18 18 18 21 22 21 15 17 13 22 16 15 20 10 22 17 17 17 20 18 15\n",
      " 16 20 14 15 20 20 21 18 17 18 20 16 17 21 16 18 16 20 21 15 21 20 15 20\n",
      " 15 16 18 20 17 18 22 15 17 17 21 18 18 16 19 16 14 18 22 19 16 19 21 19\n",
      " 17 18 19 22 19 19 20 14 18 18 19 18 18 17 21 20 22 15 14 19 20 20 20 16\n",
      "  9 18 16 17 19 16 16 20 22 13 15 17 20 21 16 17 23 21 12 14 22 17 20 21\n",
      " 17 16 19 18 19 20 18 18 19 19 16 21 16 21 15 18 21 16 23 12 20 20 15 13\n",
      " 19 18 24 21 13 16 17 19 14 16 12 19 20 18 15 19 21 24 21 14 15 20 19 21\n",
      " 22 21 20 21 16 24 13 19 24 12 19 17 19 20 14 15 15 22 17 19 13 20 17 17\n",
      " 16 13 13 22 16 14 13 18 12 20 14 18 16 22 23 23 19 11 21 18 18 22 21 17\n",
      " 18 15 23 15 17 17 20 15 17 18 14 17 23 22 24 18 19 21 16 19 20 20 16 15\n",
      " 22 22 18 19 21 18 21 22 13 21 17 20 17 22 19 17 23 21 21 20 18 19 18 15\n",
      " 21 22 17 13 23 18 16 18 18 18 21 17 15 16 14 19 13 19 20 17 19 23 18 22\n",
      " 21 15 16 15 20 18 20 16 26 19 15 18 21 18 20 17 17 21 18 20 23 21 19 16\n",
      " 15 18 19 17 22 19 17 19 15 19 16 16 13 13 19 15 19 16 15 15 23 24 18 14\n",
      " 20 17 17 20 17 22 22 25 20 17 20 19 23 21 18 17 17 14 20 13 15 21 19 13\n",
      " 20 21 21 17 22 16 19 23 14 22 21 17 16 19 17 10 18 11 12 21 18 21 14 20\n",
      " 15 24 22 23 17 13 20 16 19 17 14 20 25 19 15 22]\n"
     ]
    },
    {
     "ename": "NameError",
     "evalue": "name 'df_iris' is not defined",
     "output_type": "error",
     "traceback": [
      "\u001b[0;31m---------------------------------------------------------------------------\u001b[0m",
      "\u001b[0;31mNameError\u001b[0m                                 Traceback (most recent call last)",
      "\u001b[0;32m<ipython-input-3-246658c7f24b>\u001b[0m in \u001b[0;36m<module>\u001b[0;34m\u001b[0m\n\u001b[1;32m     18\u001b[0m tr_sepal_length = go.Histogram(\n\u001b[1;32m     19\u001b[0m     \u001b[0mname\u001b[0m\u001b[0;34m=\u001b[0m\u001b[0;34m'sepal length (cm)'\u001b[0m\u001b[0;34m,\u001b[0m\u001b[0;34m\u001b[0m\u001b[0m\n\u001b[0;32m---> 20\u001b[0;31m     \u001b[0mx\u001b[0m\u001b[0;34m=\u001b[0m\u001b[0mdf_iris\u001b[0m\u001b[0;34m[\u001b[0m\u001b[0;34m'sepal length (cm)'\u001b[0m\u001b[0;34m]\u001b[0m\u001b[0;34m,\u001b[0m\u001b[0;34m\u001b[0m\u001b[0m\n\u001b[0m\u001b[1;32m     21\u001b[0m     \u001b[0mnbinsx\u001b[0m\u001b[0;34m=\u001b[0m\u001b[0msturges_bins\u001b[0m\u001b[0;34m,\u001b[0m\u001b[0;34m\u001b[0m\u001b[0m\n\u001b[1;32m     22\u001b[0m     \u001b[0mopacity\u001b[0m\u001b[0;34m=\u001b[0m\u001b[0;36m0.75\u001b[0m\u001b[0;34m\u001b[0m\u001b[0m\n",
      "\u001b[0;31mNameError\u001b[0m: name 'df_iris' is not defined"
     ]
    }
   ],
   "source": [
    "# 二項分布\n",
    "df = pd.DataFrame({\n",
    "    'inde'\n",
    "})\n",
    "\n",
    "n, p = 36, .5 \n",
    "# 36回 コインを投げた場合、表or裏が出る回数 。 1000セット実行する 。\n",
    "s = np.random.binomial(n, p, 1000)\n",
    "print(s)\n",
    "\n",
    "\n",
    "mu_params = [-1, 0, 1]\n",
    "sd_params = [0.5, 1, 1.5]\n",
    "\n",
    "tr_sepal_length = go.Histogram(\n",
    "    name='sepal length (cm)', \n",
    "    x=df_iris['sepal length (cm)'], \n",
    "    nbinsx=sturges_bins,\n",
    "    opacity=0.75\n",
    ")\n",
    "tr_sepal_width = go.Histogram(\n",
    "    name='sepal width (cm)', \n",
    "    x=df_iris['sepal width (cm)'], \n",
    "    nbinsx=sturges_bins,\n",
    "    opacity=0.75\n",
    ")\n",
    "tr_petal_length = go.Histogram(\n",
    "    name='petal length (cm)', \n",
    "    x=df_iris['petal length (cm)'], \n",
    "    nbinsx=sturges_bins,\n",
    "    opacity=0.75\n",
    ")\n",
    "tr_petal_width = go.Histogram(\n",
    "    name='petal width (cm)', \n",
    "    x=df_iris['petal width (cm)'], \n",
    "    nbinsx=sturges_bins,\n",
    "    opacity=0.75\n",
    ")\n",
    "\n",
    "fig = tools.make_subplots(rows=2, cols=2)\n",
    "fig.append_trace(tr_sepal_length, 1, 1)\n",
    "fig.append_trace(tr_sepal_width, 1, 2)\n",
    "fig.append_trace(tr_petal_length, 2, 1)\n",
    "fig.append_trace(tr_petal_width, 2, 2)\n",
    "\n",
    "fig['layout']['xaxis1'].update(title='cm')\n",
    "fig['layout']['xaxis2'].update(title='cm')\n",
    "fig['layout']['xaxis3'].update(title='cm')\n",
    "fig['layout']['xaxis4'].update(title='cm')\n",
    "\n",
    "fig['layout']['yaxis1'].update(title='度数')\n",
    "fig['layout']['yaxis2'].update(title='度数')\n",
    "fig['layout']['yaxis3'].update(title='度数')\n",
    "fig['layout']['yaxis4'].update(title='度数')\n",
    "\n",
    "fig['layout'].update(title='説明変数のヒストグラム', width=1600, height=1400,\n",
    "                     font={\"family\":\"Yu Gothic Bold, sans-selif\", \"size\":25})\n",
    "py.iplot(fig, show_link=False)\n",
    "\n",
    "\n"
   ]
  },
  {
   "cell_type": "code",
   "execution_count": null,
   "metadata": {},
   "outputs": [],
   "source": []
  }
 ],
 "metadata": {
  "kernelspec": {
   "display_name": "Python 3",
   "language": "python",
   "name": "python3"
  },
  "language_info": {
   "codemirror_mode": {
    "name": "ipython",
    "version": 3
   },
   "file_extension": ".py",
   "mimetype": "text/x-python",
   "name": "python",
   "nbconvert_exporter": "python",
   "pygments_lexer": "ipython3",
   "version": "3.7.0"
  }
 },
 "nbformat": 4,
 "nbformat_minor": 2
}
