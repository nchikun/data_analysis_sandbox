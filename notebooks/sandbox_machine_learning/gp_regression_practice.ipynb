{
 "cells": [
  {
   "cell_type": "markdown",
   "metadata": {},
   "source": [
    "# Gaussian Process Regression Practice\n",
    "### 注意\n",
    "***\n",
    "- 今のところのversion3.7ではGpyライブラリ使えない"
   ]
  },
  {
   "cell_type": "code",
   "execution_count": null,
   "metadata": {},
   "outputs": [],
   "source": [
    "%matplotlib inline\n",
    "import GPy\n",
    "import pandas as pd\n",
    "import numpy as np\n",
    "import matplotlib.pyplot as plt\n",
    "import warnings\n",
    "warnings.filterwarnings('ignore')"
   ]
  },
  {
   "cell_type": "markdown",
   "metadata": {},
   "source": [
    "## カーネル関数定義（引数は入力データ次元）"
   ]
  },
  {
   "cell_type": "code",
   "execution_count": null,
   "metadata": {},
   "outputs": [],
   "source": [
    "kernel = GPy.kern.RBF(1) # + GPy.kern.Bias(1) + GPy.kern.Linear(1)"
   ]
  },
  {
   "cell_type": "markdown",
   "metadata": {},
   "source": [
    "## サンプルデータ作成"
   ]
  },
  {
   "cell_type": "code",
   "execution_count": null,
   "metadata": {},
   "outputs": [],
   "source": [
    "data_set_train = pd.DataFrame({\n",
    "    'x': [-6.836951,-5.927641,-5.907641,-5.476121,-4.387844,-3.739508,-3.407790,-2.537614,-1.894670,\n",
    "          -0.683068,0.688162,0.897893,1.129219,2.512134,2.581766],\n",
    "    'y': [-1.826294,0.054874,0.024874,0.336462,-0.818773,-1.251986,-1.194328,0.528471,1.592675,1.896029,\n",
    "          -0.056895,-0.742960,-1.053691,-2.835724,-2.327798]})\n",
    "data_set_test = pd.DataFrame({\n",
    "    'x': [4.268952,4.427094,4.944368,5.819585,6.159190],\n",
    "    'y': [-1.328631,-1.066197,-1.634321,-1.088327,-0.867389]})"
   ]
  },
  {
   "cell_type": "markdown",
   "metadata": {},
   "source": [
    "## モデル作成&予測"
   ]
  },
  {
   "cell_type": "code",
   "execution_count": null,
   "metadata": {},
   "outputs": [],
   "source": [
    "model = GPy.models.GPRegression(data_set_train.x[:,None], data_set_train.y[:,None], kernel=kernel) # normalizer=True: 正規化\n",
    "model.optimize()\n",
    "model.plot()\n",
    "plt.show()"
   ]
  },
  {
   "cell_type": "code",
   "execution_count": null,
   "metadata": {},
   "outputs": [],
   "source": [
    "x_pred = data_set_train.x[:, None]\n",
    "y_qua_pred = model.predict(x_pred)[0]\n",
    "print(y_qua_pred)"
   ]
  }
 ],
 "metadata": {
  "kernelspec": {
   "display_name": "Python 3",
   "language": "python",
   "name": "python3"
  },
  "language_info": {
   "codemirror_mode": {
    "name": "ipython",
    "version": 3
   },
   "file_extension": ".py",
   "mimetype": "text/x-python",
   "name": "python",
   "nbconvert_exporter": "python",
   "pygments_lexer": "ipython3",
   "version": "3.7.0"
  }
 },
 "nbformat": 4,
 "nbformat_minor": 2
}
