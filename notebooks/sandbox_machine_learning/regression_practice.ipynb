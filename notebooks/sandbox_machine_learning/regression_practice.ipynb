{
 "cells": [
  {
   "cell_type": "markdown",
   "metadata": {},
   "source": [
    "# Logistic Regression Practice"
   ]
  },
  {
   "cell_type": "code",
   "execution_count": 28,
   "metadata": {},
   "outputs": [],
   "source": [
    "import numpy as np\n",
    "import pandas as pd\n",
    "import warnings\n",
    "from sklearn.datasets import make_classification\n",
    "from sklearn.model_selection import train_test_split\n",
    "from sklearn.linear_model import LogisticRegression\n",
    "from sklearn.metrics import accuracy_score, confusion_matrix, classification_report\n",
    "warnings.filterwarnings('ignore')"
   ]
  },
  {
   "cell_type": "markdown",
   "metadata": {},
   "source": [
    "## データセット作成"
   ]
  },
  {
   "cell_type": "code",
   "execution_count": 29,
   "metadata": {},
   "outputs": [],
   "source": [
    "df = make_classification(\n",
    "    n_samples = 100000,\n",
    "    n_features = 10,\n",
    "    n_informative = 2,          # 目的変数と相関の強い特徴量の数（特徴量選択で選ばれる確率が高い）\n",
    "    n_redundant = 0,            # n_informativeの線形結合で作成される特徴量の数（多重共線性を含める）\n",
    "    n_repeated = 0,             # n_informative,n_redundantのコピー特徴量の数\n",
    "    n_classes = 2,              # 2の場合2値分類,n>2の場合多値分類\n",
    "    n_clusters_per_class = 2,\n",
    "    weights = [0.9999, 0.0001], # 100000のうち1のラベルデータが10個しか生成されない\n",
    "    flip_y = 0,                 # 0.01で1%の確率でクラスラベルが切り替わる（異常値づくり？）\n",
    "    class_sep = 1.0,            # 切片の学習用\n",
    "    hypercube = True,\n",
    "    shift = 0.0,\n",
    "    scale = 1.0,\n",
    "    shuffle = True,\n",
    "    random_state = 71)          # 生成データのランダム性（Noneにしたら毎回異なるデータ）"
   ]
  },
  {
   "cell_type": "code",
   "execution_count": 30,
   "metadata": {},
   "outputs": [],
   "source": [
    "df_raw = pd.DataFrame(df[0], columns =\n",
    "                      ['var1', 'var2', 'var3', 'var4', 'var5',\n",
    "                       'var6', 'var7', 'var8', 'var9', 'var10'])\n",
    "df_raw['Class'] = df[1]\n",
    "X = df_raw.iloc[:, 0:10]\n",
    "y = df_raw['Class']"
   ]
  },
  {
   "cell_type": "code",
   "execution_count": 31,
   "metadata": {},
   "outputs": [],
   "source": [
    "X_train, X_test, y_train, y_test = train_test_split(X, y, test_size = 0.3, random_state = 0)"
   ]
  },
  {
   "cell_type": "markdown",
   "metadata": {},
   "source": [
    "## モデル作成と予測,精度評価"
   ]
  },
  {
   "cell_type": "code",
   "execution_count": 32,
   "metadata": {},
   "outputs": [
    {
     "name": "stdout",
     "output_type": "stream",
     "text": [
      "Accuracy: 0.9999666666666667\n"
     ]
    }
   ],
   "source": [
    "model = LogisticRegression()\n",
    "model.fit(X_train, y_train)\n",
    "y_pred = model.predict(X_test)\n",
    "print(f'Accuracy: {accuracy_score(y_test, y_pred)}')"
   ]
  },
  {
   "cell_type": "code",
   "execution_count": 27,
   "metadata": {},
   "outputs": [
    {
     "name": "stdout",
     "output_type": "stream",
     "text": [
      "[[29999     0]\n",
      " [    1     0]]\n",
      "              precision    recall  f1-score   support\n",
      "\n",
      "           0       1.00      1.00      1.00     29999\n",
      "           1       0.00      0.00      0.00         1\n",
      "\n",
      "   micro avg       1.00      1.00      1.00     30000\n",
      "   macro avg       0.50      0.50      0.50     30000\n",
      "weighted avg       1.00      1.00      1.00     30000\n",
      "\n"
     ]
    }
   ],
   "source": [
    "print(confusion_matrix(y_test, y_pred))\n",
    "print(classification_report(y_test, y_pred))"
   ]
  },
  {
   "cell_type": "code",
   "execution_count": null,
   "metadata": {},
   "outputs": [],
   "source": []
  }
 ],
 "metadata": {
  "kernelspec": {
   "display_name": "Python 3",
   "language": "python",
   "name": "python3"
  },
  "language_info": {
   "codemirror_mode": {
    "name": "ipython",
    "version": 3
   },
   "file_extension": ".py",
   "mimetype": "text/x-python",
   "name": "python",
   "nbconvert_exporter": "python",
   "pygments_lexer": "ipython3",
   "version": "3.7.0"
  }
 },
 "nbformat": 4,
 "nbformat_minor": 2
}
