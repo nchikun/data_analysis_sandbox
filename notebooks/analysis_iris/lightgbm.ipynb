{
 "cells": [
  {
   "cell_type": "markdown",
   "metadata": {},
   "source": [
    "# LightGBM"
   ]
  },
  {
   "cell_type": "code",
   "execution_count": 4,
   "metadata": {},
   "outputs": [],
   "source": [
    "import numpy as np\n",
    "import pandas as pd\n",
    "import seaborn as sns\n",
    "import lightgbm as lgb\n",
    "from sklearn.cluster import KMeans\n",
    "from sklearn.decomposition import PCA\n",
    "import matplotlib.pyplot as plt\n",
    "import warnings\n",
    "warnings.filterwarnings('ignore')\n",
    "pd.set_option('display.max_rows', 1000)\n",
    "pd.set_option('display.max_columns', 1000)"
   ]
  },
  {
   "cell_type": "markdown",
   "metadata": {},
   "source": [
    "## Iris"
   ]
  },
  {
   "cell_type": "code",
   "execution_count": 6,
   "metadata": {},
   "outputs": [],
   "source": [
    "df_iris = pd.read_csv('./data/raw/iris.csv')"
   ]
  },
  {
   "cell_type": "code",
   "execution_count": 7,
   "metadata": {},
   "outputs": [
    {
     "name": "stdout",
     "output_type": "stream",
     "text": [
      "(150, 5)\n"
     ]
    },
    {
     "data": {
      "text/html": [
       "<div>\n",
       "<style scoped>\n",
       "    .dataframe tbody tr th:only-of-type {\n",
       "        vertical-align: middle;\n",
       "    }\n",
       "\n",
       "    .dataframe tbody tr th {\n",
       "        vertical-align: top;\n",
       "    }\n",
       "\n",
       "    .dataframe thead th {\n",
       "        text-align: right;\n",
       "    }\n",
       "</style>\n",
       "<table border=\"1\" class=\"dataframe\">\n",
       "  <thead>\n",
       "    <tr style=\"text-align: right;\">\n",
       "      <th></th>\n",
       "      <th>sepal_length</th>\n",
       "      <th>sepal_width</th>\n",
       "      <th>petal_length</th>\n",
       "      <th>petal_width</th>\n",
       "      <th>species</th>\n",
       "    </tr>\n",
       "  </thead>\n",
       "  <tbody>\n",
       "    <tr>\n",
       "      <th>0</th>\n",
       "      <td>5.1</td>\n",
       "      <td>3.5</td>\n",
       "      <td>1.4</td>\n",
       "      <td>0.2</td>\n",
       "      <td>setosa</td>\n",
       "    </tr>\n",
       "    <tr>\n",
       "      <th>1</th>\n",
       "      <td>4.9</td>\n",
       "      <td>3.0</td>\n",
       "      <td>1.4</td>\n",
       "      <td>0.2</td>\n",
       "      <td>setosa</td>\n",
       "    </tr>\n",
       "    <tr>\n",
       "      <th>2</th>\n",
       "      <td>4.7</td>\n",
       "      <td>3.2</td>\n",
       "      <td>1.3</td>\n",
       "      <td>0.2</td>\n",
       "      <td>setosa</td>\n",
       "    </tr>\n",
       "    <tr>\n",
       "      <th>3</th>\n",
       "      <td>4.6</td>\n",
       "      <td>3.1</td>\n",
       "      <td>1.5</td>\n",
       "      <td>0.2</td>\n",
       "      <td>setosa</td>\n",
       "    </tr>\n",
       "    <tr>\n",
       "      <th>4</th>\n",
       "      <td>5.0</td>\n",
       "      <td>3.6</td>\n",
       "      <td>1.4</td>\n",
       "      <td>0.2</td>\n",
       "      <td>setosa</td>\n",
       "    </tr>\n",
       "  </tbody>\n",
       "</table>\n",
       "</div>"
      ],
      "text/plain": [
       "   sepal_length  sepal_width  petal_length  petal_width species\n",
       "0           5.1          3.5           1.4          0.2  setosa\n",
       "1           4.9          3.0           1.4          0.2  setosa\n",
       "2           4.7          3.2           1.3          0.2  setosa\n",
       "3           4.6          3.1           1.5          0.2  setosa\n",
       "4           5.0          3.6           1.4          0.2  setosa"
      ]
     },
     "execution_count": 7,
     "metadata": {},
     "output_type": "execute_result"
    }
   ],
   "source": [
    "print(df_iris.shape)\n",
    "df_iris.head()"
   ]
  },
  {
   "cell_type": "code",
   "execution_count": 9,
   "metadata": {},
   "outputs": [
    {
     "data": {
      "text/plain": [
       "array(['setosa', 'versicolor', 'virginica'], dtype=object)"
      ]
     },
     "execution_count": 9,
     "metadata": {},
     "output_type": "execute_result"
    }
   ],
   "source": [
    "df_iris['species'].unique()"
   ]
  },
  {
   "cell_type": "markdown",
   "metadata": {},
   "source": [
    "## 学習/テストデータ"
   ]
  },
  {
   "cell_type": "code",
   "execution_count": 17,
   "metadata": {},
   "outputs": [],
   "source": [
    "df_iris_setosa = df_iris.query('species == \"setosa\"')\n",
    "df_iris_versicolor = df_iris.query('species == \"versicolor\"')\n",
    "df_iris_virginica = df_iris.query('species == \"virginica\"')"
   ]
  },
  {
   "cell_type": "code",
   "execution_count": 26,
   "metadata": {},
   "outputs": [],
   "source": [
    "X_train = pd.concat([df_iris_setosa.iloc[0:25,0:4], df_iris_versicolor.iloc[0:25,0:4], df_iris_virginica.iloc[0:25,0:4]], axis=0)\n",
    "y_train = pd.concat([df_iris_setosa['species'], df_iris_versicolor['species'], df_iris_virginica['species']], axis=0)"
   ]
  },
  {
   "cell_type": "code",
   "execution_count": 29,
   "metadata": {},
   "outputs": [
    {
     "data": {
      "text/plain": [
       "0          setosa\n",
       "1          setosa\n",
       "2          setosa\n",
       "3          setosa\n",
       "4          setosa\n",
       "5          setosa\n",
       "6          setosa\n",
       "7          setosa\n",
       "8          setosa\n",
       "9          setosa\n",
       "10         setosa\n",
       "11         setosa\n",
       "12         setosa\n",
       "13         setosa\n",
       "14         setosa\n",
       "15         setosa\n",
       "16         setosa\n",
       "17         setosa\n",
       "18         setosa\n",
       "19         setosa\n",
       "20         setosa\n",
       "21         setosa\n",
       "22         setosa\n",
       "23         setosa\n",
       "24         setosa\n",
       "25         setosa\n",
       "26         setosa\n",
       "27         setosa\n",
       "28         setosa\n",
       "29         setosa\n",
       "30         setosa\n",
       "31         setosa\n",
       "32         setosa\n",
       "33         setosa\n",
       "34         setosa\n",
       "35         setosa\n",
       "36         setosa\n",
       "37         setosa\n",
       "38         setosa\n",
       "39         setosa\n",
       "40         setosa\n",
       "41         setosa\n",
       "42         setosa\n",
       "43         setosa\n",
       "44         setosa\n",
       "45         setosa\n",
       "46         setosa\n",
       "47         setosa\n",
       "48         setosa\n",
       "49         setosa\n",
       "50     versicolor\n",
       "51     versicolor\n",
       "52     versicolor\n",
       "53     versicolor\n",
       "54     versicolor\n",
       "55     versicolor\n",
       "56     versicolor\n",
       "57     versicolor\n",
       "58     versicolor\n",
       "59     versicolor\n",
       "60     versicolor\n",
       "61     versicolor\n",
       "62     versicolor\n",
       "63     versicolor\n",
       "64     versicolor\n",
       "65     versicolor\n",
       "66     versicolor\n",
       "67     versicolor\n",
       "68     versicolor\n",
       "69     versicolor\n",
       "70     versicolor\n",
       "71     versicolor\n",
       "72     versicolor\n",
       "73     versicolor\n",
       "74     versicolor\n",
       "75     versicolor\n",
       "76     versicolor\n",
       "77     versicolor\n",
       "78     versicolor\n",
       "79     versicolor\n",
       "80     versicolor\n",
       "81     versicolor\n",
       "82     versicolor\n",
       "83     versicolor\n",
       "84     versicolor\n",
       "85     versicolor\n",
       "86     versicolor\n",
       "87     versicolor\n",
       "88     versicolor\n",
       "89     versicolor\n",
       "90     versicolor\n",
       "91     versicolor\n",
       "92     versicolor\n",
       "93     versicolor\n",
       "94     versicolor\n",
       "95     versicolor\n",
       "96     versicolor\n",
       "97     versicolor\n",
       "98     versicolor\n",
       "99     versicolor\n",
       "100     virginica\n",
       "101     virginica\n",
       "102     virginica\n",
       "103     virginica\n",
       "104     virginica\n",
       "105     virginica\n",
       "106     virginica\n",
       "107     virginica\n",
       "108     virginica\n",
       "109     virginica\n",
       "110     virginica\n",
       "111     virginica\n",
       "112     virginica\n",
       "113     virginica\n",
       "114     virginica\n",
       "115     virginica\n",
       "116     virginica\n",
       "117     virginica\n",
       "118     virginica\n",
       "119     virginica\n",
       "120     virginica\n",
       "121     virginica\n",
       "122     virginica\n",
       "123     virginica\n",
       "124     virginica\n",
       "125     virginica\n",
       "126     virginica\n",
       "127     virginica\n",
       "128     virginica\n",
       "129     virginica\n",
       "130     virginica\n",
       "131     virginica\n",
       "132     virginica\n",
       "133     virginica\n",
       "134     virginica\n",
       "135     virginica\n",
       "136     virginica\n",
       "137     virginica\n",
       "138     virginica\n",
       "139     virginica\n",
       "140     virginica\n",
       "141     virginica\n",
       "142     virginica\n",
       "143     virginica\n",
       "144     virginica\n",
       "145     virginica\n",
       "146     virginica\n",
       "147     virginica\n",
       "148     virginica\n",
       "149     virginica\n",
       "Name: species, dtype: object"
      ]
     },
     "execution_count": 29,
     "metadata": {},
     "output_type": "execute_result"
    }
   ],
   "source": [
    "X_test = pd.concat([df_iris_setosa.iloc[0:25,0:4], df_iris_versicolor.iloc[0:25,0:4], df_iris_virginica.iloc[0:25,0:4]], axis=0)\n",
    "y_test = pd.concat([df_iris_setosa['species'], df_iris_versicolor['species'], df_iris_virginica['species']], axis=0)"
   ]
  },
  {
   "cell_type": "code",
   "execution_count": null,
   "metadata": {},
   "outputs": [],
   "source": [
    "X_test = pd.concat([df_iris_setosa.iloc[25:,0:4], df_iris_versicolor.iloc[25:,0:4], df_iris_virginica.iloc[25:,0:4]], axis=0)"
   ]
  },
  {
   "cell_type": "code",
   "execution_count": 14,
   "metadata": {},
   "outputs": [
    {
     "name": "stdout",
     "output_type": "stream",
     "text": [
      "50\n",
      "50\n",
      "50\n"
     ]
    }
   ],
   "source": [
    "print(len(df_iris_setosa))\n",
    "print(len(df_iris_versicolor))\n",
    "print(len(df_iris_virginica))"
   ]
  },
  {
   "cell_type": "markdown",
   "metadata": {},
   "source": [
    "## LightGBM"
   ]
  },
  {
   "cell_type": "code",
   "execution_count": null,
   "metadata": {},
   "outputs": [],
   "source": [
    "model = lgb.LGBMClassifier(class_weight='balanced')\n",
    "model.fit(X_train.values, y_train.values)\n",
    "\n",
    "\n",
    "# 4-foldチューニング\n",
    "kfolds=[[1,2,3],[2,3,4],[3,4,1],[4,1,2]]\n",
    "df_results = pd.DataFrame()\n",
    "models = []\n",
    "X_tests = []\n",
    "for tar in kfolds:\n",
    "    df_train, df_test, X_train, y_train, X_test, y_test = split_train_test(df_all_selected, tar)\n",
    "    model = lgb.LGBMClassifier(class_weight='balanced')\n",
    "    model.fit(X_train.values, y_train.values)\n",
    "    models.append(model)\n",
    "    X_tests.append(X_test)\n",
    "    df_test['rekka_score'] = model.predict_proba(X_test.values)[:,1]\n",
    "    df_results = pd.concat([df_results, df_test])"
   ]
  }
 ],
 "metadata": {
  "kernelspec": {
   "display_name": "data_analysis_sandbox_3_6",
   "language": "python",
   "name": "data_analysis_sandbox_3_6"
  },
  "language_info": {
   "codemirror_mode": {
    "name": "ipython",
    "version": 3
   },
   "file_extension": ".py",
   "mimetype": "text/x-python",
   "name": "python",
   "nbconvert_exporter": "python",
   "pygments_lexer": "ipython3",
   "version": "3.6.5"
  }
 },
 "nbformat": 4,
 "nbformat_minor": 2
}
