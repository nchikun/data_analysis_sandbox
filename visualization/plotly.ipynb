{
 "cells": [
  {
   "cell_type": "markdown",
   "metadata": {},
   "source": [
    "# Plotlyライブラリの学習"
   ]
  },
  {
   "cell_type": "code",
   "execution_count": 56,
   "metadata": {},
   "outputs": [],
   "source": [
    "# データ構造\n",
    "import numpy as np\n",
    "import pandas as pd\n",
    "\n",
    "# Plotly関連\n",
    "import plotly\n",
    "import plotly.plotly as py\n",
    "import plotly.graph_objs as go\n",
    "import plotly.figure_factory as ff\n",
    "from plotly import tools\n",
    "\n",
    "# その他\n",
    "import mojimoji\n",
    "import warnings\n",
    "warnings.filterwarnings('ignore')"
   ]
  },
  {
   "cell_type": "code",
   "execution_count": 2,
   "metadata": {},
   "outputs": [
    {
     "data": {
      "text/html": [
       "<div>\n",
       "<style scoped>\n",
       "    .dataframe tbody tr th:only-of-type {\n",
       "        vertical-align: middle;\n",
       "    }\n",
       "\n",
       "    .dataframe tbody tr th {\n",
       "        vertical-align: top;\n",
       "    }\n",
       "\n",
       "    .dataframe thead th {\n",
       "        text-align: right;\n",
       "    }\n",
       "</style>\n",
       "<table border=\"1\" class=\"dataframe\">\n",
       "  <thead>\n",
       "    <tr style=\"text-align: right;\">\n",
       "      <th></th>\n",
       "      <th>point</th>\n",
       "      <th>57</th>\n",
       "      <th>64</th>\n",
       "      <th>70</th>\n",
       "      <th>88</th>\n",
       "      <th>92</th>\n",
       "    </tr>\n",
       "    <tr>\n",
       "      <th>age</th>\n",
       "      <th>state</th>\n",
       "      <th></th>\n",
       "      <th></th>\n",
       "      <th></th>\n",
       "      <th></th>\n",
       "      <th></th>\n",
       "    </tr>\n",
       "  </thead>\n",
       "  <tbody>\n",
       "    <tr>\n",
       "      <th>18</th>\n",
       "      <th>CA</th>\n",
       "      <td>0</td>\n",
       "      <td>0</td>\n",
       "      <td>1</td>\n",
       "      <td>0</td>\n",
       "      <td>0</td>\n",
       "    </tr>\n",
       "    <tr>\n",
       "      <th rowspan=\"2\" valign=\"top\">24</th>\n",
       "      <th>CA</th>\n",
       "      <td>0</td>\n",
       "      <td>0</td>\n",
       "      <td>0</td>\n",
       "      <td>1</td>\n",
       "      <td>0</td>\n",
       "    </tr>\n",
       "    <tr>\n",
       "      <th>NY</th>\n",
       "      <td>0</td>\n",
       "      <td>1</td>\n",
       "      <td>0</td>\n",
       "      <td>0</td>\n",
       "      <td>0</td>\n",
       "    </tr>\n",
       "    <tr>\n",
       "      <th>30</th>\n",
       "      <th>NY</th>\n",
       "      <td>1</td>\n",
       "      <td>0</td>\n",
       "      <td>0</td>\n",
       "      <td>0</td>\n",
       "      <td>0</td>\n",
       "    </tr>\n",
       "    <tr>\n",
       "      <th>42</th>\n",
       "      <th>CA</th>\n",
       "      <td>0</td>\n",
       "      <td>0</td>\n",
       "      <td>0</td>\n",
       "      <td>0</td>\n",
       "      <td>1</td>\n",
       "    </tr>\n",
       "    <tr>\n",
       "      <th>68</th>\n",
       "      <th>TX</th>\n",
       "      <td>0</td>\n",
       "      <td>0</td>\n",
       "      <td>1</td>\n",
       "      <td>0</td>\n",
       "      <td>0</td>\n",
       "    </tr>\n",
       "  </tbody>\n",
       "</table>\n",
       "</div>"
      ],
      "text/plain": [
       "point      57  64  70  88  92\n",
       "age state                    \n",
       "18  CA      0   0   1   0   0\n",
       "24  CA      0   0   0   1   0\n",
       "    NY      0   1   0   0   0\n",
       "30  NY      1   0   0   0   0\n",
       "42  CA      0   0   0   0   1\n",
       "68  TX      0   0   1   0   0"
      ]
     },
     "execution_count": 2,
     "metadata": {},
     "output_type": "execute_result"
    }
   ],
   "source": [
    "df_1 = pd.DataFrame({\n",
    "    'age': [24,42,18,68,24,30],\n",
    "    'state': ['NY','CA','CA','TX','CA','NY'],\n",
    "    'point': [64,92,70,70,88,57]\n",
    "})\n",
    "ct = pd.crosstab([df_1['age'],df_1['state']], df_1['point'])\n",
    "ct"
   ]
  },
  {
   "cell_type": "markdown",
   "metadata": {},
   "source": [
    "## ヒートマップ"
   ]
  },
  {
   "cell_type": "code",
   "execution_count": 111,
   "metadata": {},
   "outputs": [
    {
     "data": {
      "text/html": [
       "<iframe id=\"igraph\" scrolling=\"no\" style=\"border:none;\" seamless=\"seamless\" src=\"https://plot.ly/~nchikun/346.embed\" height=\"525px\" width=\"100%\"></iframe>"
      ],
      "text/plain": [
       "<plotly.tools.PlotlyDisplay object>"
      ]
     },
     "execution_count": 111,
     "metadata": {},
     "output_type": "execute_result"
    }
   ],
   "source": [
    "def multi_title(df: pd.DataFrame, x=True) -> str:\n",
    "    '''MultiIndexを持つDataFrameのindex名を結合'''\n",
    "    res = ''\n",
    "    names = df.columns.names if x == True else df.index.names\n",
    "    for i, name in enumerate(df.index.names):\n",
    "        res += name\n",
    "        if i == len(df.index.names) - 1: break\n",
    "        res += '-'\n",
    "    return res\n",
    "\n",
    "def multi_label(df: pd.DataFrame):\n",
    "    '''MultiIndexを持つDataFrameのindex要素名を結合'''\n",
    "    res = []\n",
    "    n_df = len(df)\n",
    "    for i in range(n_df):\n",
    "        add = str(df.index.levels[0][df.index.codes[0][i]]) + '-' + df.index.levels[1][df.index.codes[1][i]]\n",
    "        res.append(add)\n",
    "    return res\n",
    "\n",
    "fig = ff.create_annotated_heatmap(z=ct.values,\n",
    "                                  x=list(map(lambda x: mojimoji.han_to_zen(str(x)), ct.columns)),\n",
    "                                  y=multi_label(ct),\n",
    "                                  colorscale='Blues',\n",
    "                                  showscale=True,\n",
    "                                  reversescale=True,\n",
    "                                  opacity=0.75)\n",
    "# なぜかx軸だけグリッド線が引かれ,ラベルが上に来ていた\n",
    "fig['layout']['xaxis'].update(title=ct.columns.names[0], showgrid=False, side='bottom')\n",
    "fig['layout']['yaxis'].update(title=multi_title(ct, False))\n",
    "fig['layout'].update(title='クロス集計表')\n",
    "py.iplot(fig, show_link=False)"
   ]
  },
  {
   "cell_type": "code",
   "execution_count": null,
   "metadata": {},
   "outputs": [],
   "source": []
  }
 ],
 "metadata": {
  "kernelspec": {
   "display_name": "Python 3",
   "language": "python",
   "name": "python3"
  },
  "language_info": {
   "codemirror_mode": {
    "name": "ipython",
    "version": 3
   },
   "file_extension": ".py",
   "mimetype": "text/x-python",
   "name": "python",
   "nbconvert_exporter": "python",
   "pygments_lexer": "ipython3",
   "version": "3.7.0"
  }
 },
 "nbformat": 4,
 "nbformat_minor": 2
}
